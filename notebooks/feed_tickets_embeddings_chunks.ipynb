{
 "cells": [
  {
   "cell_type": "code",
   "execution_count": 1,
   "id": "e948bb43-03cc-467d-8f9b-2acc54edf93e",
   "metadata": {},
   "outputs": [],
   "source": [
    "import re\n",
    "import requests\n",
    "import pandas as pd\n",
    "import numpy as np\n",
    "import json\n",
    "import base64\n",
    "import hashlib\n",
    "from langchain.chains.combine_documents.base import BaseCombineDocumentsChain\n",
    "from langchain.chains.question_answering import load_qa_chain\n",
    "from langchain.chat_models import ChatOpenAI\n",
    "from langchain.schema import Document\n",
    "from langchain.prompts import PromptTemplate\n",
    "from langchain.text_splitter import RecursiveCharacterTextSplitter\n",
    "from langchain.schema import Document\n",
    "from langchain_openai import OpenAIEmbeddings\n",
    "import psycopg2\n",
    "from pgvector.psycopg2 import register_vector\n",
    "from google.oauth2.service_account import Credentials\n",
    "from google.cloud import bigquery\n",
    "from psycopg2.extras import execute_values"
   ]
  },
  {
   "cell_type": "code",
   "execution_count": 31,
   "id": "2867dc97-8345-42a5-9910-51d2e21ea416",
   "metadata": {},
   "outputs": [],
   "source": [
    "class DatabaseService:\n",
    "\n",
    "    def __init__(self):\n",
    "        db_user=''\n",
    "        db_password=''\n",
    "        db_database=''\n",
    "        db_port='5432'\n",
    "        db_host=''\n",
    "        self.connection_str = f\"host='{db_host}' port='{db_port}' dbname='{db_database}' user='{db_user}' password='{db_password}'\"\n",
    "\n",
    "    def _get_database_connection(self):\n",
    "        return psycopg2.connect(self.connection_str)\n",
    "\n",
    "    def run_select_statement(self, select_statement: str, vars=None):\n",
    "        \n",
    "        try:\n",
    "            conn = self._get_database_connection()\n",
    "            register_vector(conn)\n",
    "        except Exception as e:\n",
    "            print(f'Connecting to database failed. {e}')\n",
    "            return []\n",
    "        try:\n",
    "            cursor = conn.cursor()\n",
    "            cursor.execute(select_statement, vars=vars)\n",
    "            fields = [field_md[0] for field_md in cursor.description]\n",
    "            result = cursor.fetchall()\n",
    "            result = [dict(zip(fields, row)) for row in result]\n",
    "        except Exception as e:\n",
    "            print(f'Fetching resuls from database failed. {e}\\nSelect statement: {select_statement}')\n",
    "            conn.rollback()\n",
    "            result = []\n",
    "\n",
    "        return result\n",
    "    \n",
    "    # Delete all records from a table\n",
    "    def run_dml_delete_statement(self, table: str):\n",
    "        \n",
    "        try:\n",
    "            conn = self._get_database_connection()\n",
    "            register_vector(conn)\n",
    "        except Exception as e:\n",
    "            print(f'Connecting to database failed. {e}')\n",
    "            return []\n",
    "        \n",
    "        # SQL query to execute \n",
    "        query = f'delete from {table}' \n",
    "        cursor = conn.cursor() \n",
    "        try: \n",
    "            cursor.execute(query)\n",
    "            conn.commit() \n",
    "        except (Exception, psycopg2.DatabaseError) as error: \n",
    "            print(\"Error: %s\" % error) \n",
    "            conn.rollback()  \n",
    "            \n",
    "        cursor.close()  \n",
    "    \n",
    "    def run_dml_statement(self, df: str, table: str, vars=None): \n",
    "        \n",
    "        try:\n",
    "            conn = self._get_database_connection()\n",
    "            register_vector(conn)\n",
    "        except Exception as e:\n",
    "            print(f'Connecting to database failed. {e}')\n",
    "            return []\n",
    "        \n",
    "        tuples = [tuple(x) for x in df.to_numpy()] \n",
    "  \n",
    "        cols = ','.join(list(df.columns)) \n",
    "        # SQL query to execute \n",
    "        query = \"INSERT INTO %s(%s) VALUES %%s\" % (table, cols) \n",
    "        cursor = conn.cursor() \n",
    "        try: \n",
    "            extras.execute_values(cursor, query, tuples) \n",
    "            conn.commit() \n",
    "        except (Exception, psycopg2.DatabaseError) as error: \n",
    "            print(\"Error: %s\" % error) \n",
    "            conn.rollback() \n",
    "\n",
    "        cursor.close()  \n",
    "        \n",
    "    def run_insert_statement(self, table_name: str, data_list: list):\n",
    "        try:\n",
    "            conn = self._get_database_connection()\n",
    "            register_vector(conn)\n",
    "        except Exception as e:\n",
    "            print(f'Connecting to database failed. {e}')\n",
    "            return\n",
    "        try:\n",
    "            cursor = conn.cursor()\n",
    "            execute_values(cursor, f\"\"\"INSERT INTO {table_name} (ticket_id, ticket_comment, ticket_chunk_hash, module, product,\n",
    "                                   ticket_status, sentence_embedding, created_at, updated_at, chunk) VALUES %s ON CONFLICT DO NOTHING\"\"\", data_list)\n",
    "            conn.commit()\n",
    "            print(f'Sentences added to dabatase successfully.')\n",
    "        except Exception as e:\n",
    "            print(f'Inserting {len(data_list)} rows into database failed. {e}')\n",
    "            conn.rollback()"
   ]
  },
  {
   "cell_type": "code",
   "execution_count": 3,
   "id": "bf309f19-07e1-4ed7-8125-1e9c94fbc844",
   "metadata": {},
   "outputs": [],
   "source": [
    "class LoadData:\n",
    "    \n",
    "    def run_select_bigquery(select_statement: str):\n",
    "        GOOGLE_CREDENTIAL=''\n",
    "        credentials = Credentials.from_service_account_info(json.loads(base64.b64decode(GOOGLE_CREDENTIAL)))\n",
    "\n",
    "        project_id = 'labs-poc'\n",
    "        client = bigquery.Client(credentials= credentials,project=project_id)\n",
    "\n",
    "        try:\n",
    "            # Perform a query.\n",
    "            query_job = client.query(select_statement)  # API request\n",
    "            result = query_job.result()\n",
    "        except Exception as e:\n",
    "            print(f'Fetching resuls from database failed. {e}\\nSelect statement: {select_statement}')\n",
    "            raise\n",
    "    \n",
    "        return result"
   ]
  },
  {
   "cell_type": "code",
   "execution_count": 4,
   "id": "9bec70f2-b394-4afe-bae6-1117a423741e",
   "metadata": {},
   "outputs": [],
   "source": [
    "select_statement = (\"\"\"\n",
    "                    WITH tickets_all AS (\n",
    "                        SELECT\n",
    "                            ticket_id,\n",
    "                            STRING_AGG(ticket_comment, '\\u2561') AS ticket_comment,\n",
    "                            MAX(subject) AS subject,\n",
    "                            '' AS summary,\n",
    "                            '' ticket_sentence_hash,\n",
    "                            MAX(module_name) AS module,\n",
    "                            MAX(product_name) AS product,\n",
    "                            '' AS sentence_source,\n",
    "                            MAX(ticket_status) AS ticket_status,\n",
    "                            '[1,2,3]' AS sentence_embedding,\n",
    "                            MAX(created_at) AS created_at,\n",
    "                            MAX(updated_at) AS updated_at,\n",
    "                        FROM\n",
    "                            `labs-poc`.custom_data.tickets tr\n",
    "                        GROUP BY\n",
    "                            ticket_id\n",
    "                        ),\n",
    "\n",
    "                        first_contact AS (\n",
    "                        SELECT\n",
    "                            ts.ticket_comment AS first_comment,\n",
    "                            ts.ticket_id\n",
    "                        FROM\n",
    "                            `labs-poc`.custom_data.tickets ts\n",
    "                        INNER JOIN\n",
    "                            tickets_all tr\n",
    "                        ON\n",
    "                            ts.ticket_id = tr.ticket_id\n",
    "                        QUALIFY ROW_NUMBER() OVER(PARTITION BY ts.ticket_id ORDER BY ts.comment_created_at) = 1\n",
    "                        )\n",
    "\n",
    "                        SELECT\n",
    "                            ta.*,\n",
    "                            tr.first_comment\n",
    "                        FROM\n",
    "                            tickets_all ta\n",
    "                        INNER JOIN\n",
    "                            first_contact tr\n",
    "                            ON tr.ticket_id = ta.ticket_id\n",
    "\n",
    "                    \"\"\")\n",
    "# Faz a leitura dos daods no BQ\n",
    "df = LoadData.run_select_bigquery(select_statement).to_dataframe()     "
   ]
  },
  {
   "cell_type": "code",
   "execution_count": 7,
   "id": "b224a7eb-d5b3-4912-915a-083b6ac3f120",
   "metadata": {},
   "outputs": [
    {
     "data": {
      "text/plain": [
       "(174, 13)"
      ]
     },
     "execution_count": 7,
     "metadata": {},
     "output_type": "execute_result"
    }
   ],
   "source": [
    "df.shape"
   ]
  },
  {
   "cell_type": "code",
   "execution_count": 8,
   "id": "b9f2c61f-bda7-41cf-ba7b-09fa3ce98386",
   "metadata": {},
   "outputs": [
    {
     "data": {
      "text/plain": [
       "Index(['ticket_id', 'ticket_comment', 'subject', 'summary',\n",
       "       'ticket_sentence_hash', 'module', 'product', 'sentence_source',\n",
       "       'ticket_status', 'sentence_embedding', 'created_at', 'updated_at',\n",
       "       'first_comment'],\n",
       "      dtype='object')"
      ]
     },
     "execution_count": 8,
     "metadata": {},
     "output_type": "execute_result"
    }
   ],
   "source": [
    "df.columns"
   ]
  },
  {
   "cell_type": "code",
   "execution_count": 9,
   "id": "4c725033-ea08-4cfd-9022-7193e9e892a5",
   "metadata": {},
   "outputs": [],
   "source": [
    "dff = df.copy()"
   ]
  },
  {
   "cell_type": "code",
   "execution_count": 13,
   "id": "6e243a04-a788-4d86-b2e5-e8bee60aca8f",
   "metadata": {},
   "outputs": [],
   "source": [
    "def split_document(document):\n",
    "    docs_list = [Document(page_content=str(document))]\n",
    "    text_splitter = RecursiveCharacterTextSplitter.from_tiktoken_encoder(\n",
    "        chunk_size=512, chunk_overlap=0\n",
    "    )\n",
    "    doc_splits = text_splitter.split_documents(docs_list)\n",
    "    return [doc.page_content for doc in doc_splits]"
   ]
  },
  {
   "cell_type": "code",
   "execution_count": 14,
   "id": "c8b01c30-69bf-4ce1-b080-d5036fc6c897",
   "metadata": {},
   "outputs": [],
   "source": [
    "dff['chunk'] = dff['ticket_comment'].apply(split_document)"
   ]
  },
  {
   "cell_type": "code",
   "execution_count": 19,
   "id": "54788c6a-b368-4198-911a-04dd3b058707",
   "metadata": {},
   "outputs": [
    {
     "data": {
      "text/plain": [
       "(174, 14)"
      ]
     },
     "execution_count": 19,
     "metadata": {},
     "output_type": "execute_result"
    }
   ],
   "source": [
    "dff.shape"
   ]
  },
  {
   "cell_type": "code",
   "execution_count": 18,
   "id": "fcb0a9b7-7f36-4135-b6b0-653820e02494",
   "metadata": {},
   "outputs": [
    {
     "data": {
      "text/plain": [
       "634"
      ]
     },
     "execution_count": 18,
     "metadata": {},
     "output_type": "execute_result"
    }
   ],
   "source": [
    "sum(dff['chunk'].apply(lambda x: len(x)))"
   ]
  },
  {
   "cell_type": "code",
   "execution_count": 20,
   "id": "041e9d37-3a6f-4631-b9f0-df9207b91caf",
   "metadata": {},
   "outputs": [],
   "source": [
    "dff = dff.explode('chunk', ignore_index=True)"
   ]
  },
  {
   "cell_type": "code",
   "execution_count": 21,
   "id": "dc0dfe99-d488-43b5-b9f0-99c30e6c3bd3",
   "metadata": {},
   "outputs": [
    {
     "data": {
      "text/plain": [
       "(634, 14)"
      ]
     },
     "execution_count": 21,
     "metadata": {},
     "output_type": "execute_result"
    }
   ],
   "source": [
    "dff.shape"
   ]
  },
  {
   "cell_type": "code",
   "execution_count": 22,
   "id": "37c50969-a3e6-45fa-8784-981beba0c07a",
   "metadata": {},
   "outputs": [
    {
     "data": {
      "text/html": [
       "<div>\n",
       "<style scoped>\n",
       "    .dataframe tbody tr th:only-of-type {\n",
       "        vertical-align: middle;\n",
       "    }\n",
       "\n",
       "    .dataframe tbody tr th {\n",
       "        vertical-align: top;\n",
       "    }\n",
       "\n",
       "    .dataframe thead th {\n",
       "        text-align: right;\n",
       "    }\n",
       "</style>\n",
       "<table border=\"1\" class=\"dataframe\">\n",
       "  <thead>\n",
       "    <tr style=\"text-align: right;\">\n",
       "      <th></th>\n",
       "      <th>ticket_id</th>\n",
       "      <th>ticket_comment</th>\n",
       "      <th>subject</th>\n",
       "      <th>summary</th>\n",
       "      <th>ticket_sentence_hash</th>\n",
       "      <th>module</th>\n",
       "      <th>product</th>\n",
       "      <th>sentence_source</th>\n",
       "      <th>ticket_status</th>\n",
       "      <th>sentence_embedding</th>\n",
       "      <th>created_at</th>\n",
       "      <th>updated_at</th>\n",
       "      <th>first_comment</th>\n",
       "      <th>chunk</th>\n",
       "    </tr>\n",
       "  </thead>\n",
       "  <tbody>\n",
       "    <tr>\n",
       "      <th>590</th>\n",
       "      <td>19392712</td>\n",
       "      <td>(16:45:09) *** NILZETE MENDES GARCIA entrou no...</td>\n",
       "      <td>Chat - Parada Sefaz SP - Rejeição 656 Consumo ...</td>\n",
       "      <td></td>\n",
       "      <td></td>\n",
       "      <td>Documentos Fiscais Eletrônicos (DFE)</td>\n",
       "      <td>Datasul</td>\n",
       "      <td></td>\n",
       "      <td>closed</td>\n",
       "      <td>[1,2,3]</td>\n",
       "      <td>2024-02-20 16:45:12</td>\n",
       "      <td>2024-03-01 10:07:44</td>\n",
       "      <td>Conversa com NILZETE MENDES GARCIA  URL: https...</td>\n",
       "      <td>https://centraldeatendimento.totvs.com/hc/pt-b...</td>\n",
       "    </tr>\n",
       "    <tr>\n",
       "      <th>216</th>\n",
       "      <td>10053657</td>\n",
       "      <td>Olá Alexandre, bom dia.  No patch do pacote 12...</td>\n",
       "      <td>Erro nas rotinas CD0704 e CD0401 após atualiza...</td>\n",
       "      <td></td>\n",
       "      <td></td>\n",
       "      <td>Audit Trail (MAU)</td>\n",
       "      <td>Datasul</td>\n",
       "      <td></td>\n",
       "      <td>closed</td>\n",
       "      <td>[1,2,3]</td>\n",
       "      <td>2020-10-20 22:29:40</td>\n",
       "      <td>2020-11-04 16:08:49</td>\n",
       "      <td>Prezado Suporte,\\r \\r A IBF está utilizando a ...</td>\n",
       "      <td>basta responder ao e-mail deste ticket, para d...</td>\n",
       "    </tr>\n",
       "    <tr>\n",
       "      <th>355</th>\n",
       "      <td>19195245</td>\n",
       "      <td>Utilizamos o módulo de contratos para lançamen...</td>\n",
       "      <td>IRRF desconto simplificado em lançamento de al...</td>\n",
       "      <td></td>\n",
       "      <td></td>\n",
       "      <td>TOTVS Gestão Financeira</td>\n",
       "      <td>RM</td>\n",
       "      <td></td>\n",
       "      <td>closed</td>\n",
       "      <td>[1,2,3]</td>\n",
       "      <td>2024-01-31 11:28:21</td>\n",
       "      <td>2024-02-15 17:12:37</td>\n",
       "      <td>Utilizamos o módulo de contratos para lançamen...</td>\n",
       "      <td>http://www.planalto.gov.br/ccivil_03/_ato2023-...</td>\n",
       "    </tr>\n",
       "    <tr>\n",
       "      <th>253</th>\n",
       "      <td>19441444</td>\n",
       "      <td>Dúvidas, estou a disposição.  **Larissa ...</td>\n",
       "      <td>Nota com origem indevida</td>\n",
       "      <td></td>\n",
       "      <td></td>\n",
       "      <td>Faturamento (MFT)</td>\n",
       "      <td>TOTVS Backoffice (Linha Datasul)</td>\n",
       "      <td></td>\n",
       "      <td>solved</td>\n",
       "      <td>[1,2,3]</td>\n",
       "      <td>2024-02-26 15:15:19</td>\n",
       "      <td>2024-03-06 10:18:35</td>\n",
       "      <td>O agente LETICIA JORDENS MARQUES realizou um a...</td>\n",
       "      <td>Pelo que verifiquei na listagem da nota seu it...</td>\n",
       "    </tr>\n",
       "    <tr>\n",
       "      <th>63</th>\n",
       "      <td>19540596</td>\n",
       "      <td>Olá Daiana ,boa tarde  As informações são gera...</td>\n",
       "      <td>Registro Bloco H020</td>\n",
       "      <td></td>\n",
       "      <td></td>\n",
       "      <td>Fiscal</td>\n",
       "      <td>Logix</td>\n",
       "      <td></td>\n",
       "      <td>closed</td>\n",
       "      <td>[1,2,3]</td>\n",
       "      <td>2024-03-06 16:48:35</td>\n",
       "      <td>2024-03-15 18:08:04</td>\n",
       "      <td>Como gerar o registro H020 no bloco H do SPED ...</td>\n",
       "      <td>**![](https://lh3.googleusercontent.com/proxy/...</td>\n",
       "    </tr>\n",
       "  </tbody>\n",
       "</table>\n",
       "</div>"
      ],
      "text/plain": [
       "     ticket_id                                     ticket_comment  \\\n",
       "590   19392712  (16:45:09) *** NILZETE MENDES GARCIA entrou no...   \n",
       "216   10053657  Olá Alexandre, bom dia.  No patch do pacote 12...   \n",
       "355   19195245  Utilizamos o módulo de contratos para lançamen...   \n",
       "253   19441444        Dúvidas, estou a disposição.  **Larissa ...   \n",
       "63    19540596  Olá Daiana ,boa tarde  As informações são gera...   \n",
       "\n",
       "                                               subject summary  \\\n",
       "590  Chat - Parada Sefaz SP - Rejeição 656 Consumo ...           \n",
       "216  Erro nas rotinas CD0704 e CD0401 após atualiza...           \n",
       "355  IRRF desconto simplificado em lançamento de al...           \n",
       "253                           Nota com origem indevida           \n",
       "63                                 Registro Bloco H020           \n",
       "\n",
       "    ticket_sentence_hash                                module  \\\n",
       "590                       Documentos Fiscais Eletrônicos (DFE)   \n",
       "216                                          Audit Trail (MAU)   \n",
       "355                                    TOTVS Gestão Financeira   \n",
       "253                                          Faturamento (MFT)   \n",
       "63                                                      Fiscal   \n",
       "\n",
       "                              product sentence_source ticket_status  \\\n",
       "590                           Datasul                        closed   \n",
       "216                           Datasul                        closed   \n",
       "355                                RM                        closed   \n",
       "253  TOTVS Backoffice (Linha Datasul)                        solved   \n",
       "63                              Logix                        closed   \n",
       "\n",
       "    sentence_embedding          created_at          updated_at  \\\n",
       "590            [1,2,3] 2024-02-20 16:45:12 2024-03-01 10:07:44   \n",
       "216            [1,2,3] 2020-10-20 22:29:40 2020-11-04 16:08:49   \n",
       "355            [1,2,3] 2024-01-31 11:28:21 2024-02-15 17:12:37   \n",
       "253            [1,2,3] 2024-02-26 15:15:19 2024-03-06 10:18:35   \n",
       "63             [1,2,3] 2024-03-06 16:48:35 2024-03-15 18:08:04   \n",
       "\n",
       "                                         first_comment  \\\n",
       "590  Conversa com NILZETE MENDES GARCIA  URL: https...   \n",
       "216  Prezado Suporte,\\r \\r A IBF está utilizando a ...   \n",
       "355  Utilizamos o módulo de contratos para lançamen...   \n",
       "253  O agente LETICIA JORDENS MARQUES realizou um a...   \n",
       "63   Como gerar o registro H020 no bloco H do SPED ...   \n",
       "\n",
       "                                                 chunk  \n",
       "590  https://centraldeatendimento.totvs.com/hc/pt-b...  \n",
       "216  basta responder ao e-mail deste ticket, para d...  \n",
       "355  http://www.planalto.gov.br/ccivil_03/_ato2023-...  \n",
       "253  Pelo que verifiquei na listagem da nota seu it...  \n",
       "63   **![](https://lh3.googleusercontent.com/proxy/...  "
      ]
     },
     "execution_count": 22,
     "metadata": {},
     "output_type": "execute_result"
    }
   ],
   "source": [
    "dff.sample(5)"
   ]
  },
  {
   "cell_type": "code",
   "execution_count": 23,
   "id": "0aa9f4c7-7669-42fb-8557-5581a6093d81",
   "metadata": {},
   "outputs": [],
   "source": [
    "model = OpenAIEmbeddings(\n",
    "        model=\"text-embedding-ada-002\",\n",
    "        openai_api_base='https://proxy.dta.totvs.ai/',\n",
    "        openai_api_key=\"\"\n",
    "    )"
   ]
  },
  {
   "cell_type": "code",
   "execution_count": 24,
   "id": "5d137872-4386-4eb1-9e33-3ac7307d77b8",
   "metadata": {},
   "outputs": [
    {
     "name": "stdout",
     "output_type": "stream",
     "text": [
      "Criando os embeddings para 608 novas sentenças.\n"
     ]
    }
   ],
   "source": [
    "sentences_pending = dff[\"chunk\"].unique()\n",
    "print(f'Criando os embeddings para {len(sentences_pending)} novas sentenças.')\n",
    "embeddings_pending = model.embed_documents(sentences_pending)\n",
    "sentence_to_embedding = dict(zip(sentences_pending, embeddings_pending))"
   ]
  },
  {
   "cell_type": "code",
   "execution_count": 25,
   "id": "adf59ddb-2fce-4a58-8f2e-56fd08a1e2a3",
   "metadata": {},
   "outputs": [],
   "source": [
    "dff['chunk_embedding'] = dff[\"chunk\"].apply(lambda x: sentence_to_embedding[x])"
   ]
  },
  {
   "cell_type": "code",
   "execution_count": 29,
   "id": "c136eafc-5f8d-4ced-a60a-4387109211ec",
   "metadata": {},
   "outputs": [],
   "source": [
    "dff['sentence_embedding'] = dff['chunk_embedding']"
   ]
  },
  {
   "cell_type": "code",
   "execution_count": 26,
   "id": "b2dcaa7b-0bbb-4b1d-bc38-ce592732d173",
   "metadata": {},
   "outputs": [],
   "source": [
    "def get_sentence_hash(ticket_id, sentence):\n",
    "    hash_concat = str(ticket_id) + sentence\n",
    "    return hashlib.md5(hash_concat.encode('utf-8')).hexdigest()"
   ]
  },
  {
   "cell_type": "code",
   "execution_count": 27,
   "id": "8e2d3c82-d876-4dac-b19c-2e340310269e",
   "metadata": {},
   "outputs": [],
   "source": [
    "dff['ticket_chunk_hash'] = dff.apply(lambda row: get_sentence_hash(row['ticket_id'], row['chunk']), axis=1)"
   ]
  },
  {
   "cell_type": "code",
   "execution_count": 30,
   "id": "be36abdf-4768-4c7d-8b12-6d4120c2963e",
   "metadata": {},
   "outputs": [],
   "source": [
    "data_list = [(row['ticket_id'], \n",
    "              row['ticket_comment'], \n",
    "              row['ticket_chunk_hash'],\n",
    "              row['module'], \n",
    "              row['product'],\n",
    "              row['ticket_status'],\n",
    "              row['sentence_embedding'], \n",
    "              row['created_at'], \n",
    "              row['updated_at'], \n",
    "              row['chunk']) for _, row in dff.iterrows()]"
   ]
  },
  {
   "cell_type": "code",
   "execution_count": 32,
   "id": "57b64971-7dde-4efd-a0c7-bb3e861a93aa",
   "metadata": {},
   "outputs": [
    {
     "name": "stdout",
     "output_type": "stream",
     "text": [
      "Sentences added to dabatase successfully.\n"
     ]
    }
   ],
   "source": [
    "DatabaseService().run_insert_statement('tickets_embeddings_chunks', data_list)"
   ]
  },
  {
   "cell_type": "code",
   "execution_count": null,
   "id": "d7cd985a-a4a8-4b3f-8fde-04758759b684",
   "metadata": {},
   "outputs": [],
   "source": []
  }
 ],
 "metadata": {
  "kernelspec": {
   "display_name": "carolina",
   "language": "python",
   "name": "carolina"
  },
  "language_info": {
   "codemirror_mode": {
    "name": "ipython",
    "version": 3
   },
   "file_extension": ".py",
   "mimetype": "text/x-python",
   "name": "python",
   "nbconvert_exporter": "python",
   "pygments_lexer": "ipython3",
   "version": "3.10.8"
  }
 },
 "nbformat": 4,
 "nbformat_minor": 5
}
