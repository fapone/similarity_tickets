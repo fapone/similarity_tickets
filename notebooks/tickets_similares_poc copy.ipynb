{
 "cells": [
  {
   "cell_type": "code",
   "execution_count": 18,
   "id": "e217a187-9026-4173-9a69-8c46708f8227",
   "metadata": {
    "tags": []
   },
   "outputs": [],
   "source": [
    "import copy\n",
    "import requests\n",
    "import numpy as np\n",
    "import pandas as pd\n",
    "import db_dtypes\n",
    "import ftfy\n",
    "import re\n",
    "import six\n",
    "import tiktoken\n",
    "from unidecode import unidecode\n",
    "from langchain.chains.combine_documents.base import BaseCombineDocumentsChain\n",
    "from langchain.chains.question_answering import load_qa_chain\n",
    "from langchain.chat_models import ChatOpenAI\n",
    "from langchain.prompts import PromptTemplate\n",
    "from langchain.schema import Document\n",
    "from langchain.text_splitter import CharacterTextSplitter\n",
    "from langchain_community.vectorstores import DocArrayInMemorySearch\n",
    "from langchain_openai import ChatOpenAI\n",
    "from langchain_openai import OpenAIEmbeddings\n",
    "import psycopg2\n",
    "from pgvector.psycopg2 import register_vector\n",
    "import json\n",
    "import os\n",
    "from google.oauth2 import service_account\n",
    "from google.cloud import bigquery\n",
    "#from asyncio.log import logger\n",
    "from util import transform_sentence\n",
    "from logger import get_logger\n",
    "import psycopg2.extras as extras "
   ]
  },
  {
   "cell_type": "code",
   "execution_count": 19,
   "id": "1a734111",
   "metadata": {},
   "outputs": [
    {
     "name": "stdout",
     "output_type": "stream",
     "text": [
      "Requirement already satisfied: langchain in /usr/local/anaconda3/lib/python3.10/site-packages (0.1.17)\n",
      "Requirement already satisfied: async-timeout<5.0.0,>=4.0.0 in /usr/local/anaconda3/lib/python3.10/site-packages (from langchain) (4.0.3)\n",
      "Requirement already satisfied: langsmith<0.2.0,>=0.1.17 in /usr/local/anaconda3/lib/python3.10/site-packages (from langchain) (0.1.54)\n",
      "Requirement already satisfied: SQLAlchemy<3,>=1.4 in /usr/local/anaconda3/lib/python3.10/site-packages (from langchain) (2.0.29)\n",
      "Requirement already satisfied: aiohttp<4.0.0,>=3.8.3 in /usr/local/anaconda3/lib/python3.10/site-packages (from langchain) (3.9.5)\n",
      "Requirement already satisfied: requests<3,>=2 in /usr/local/anaconda3/lib/python3.10/site-packages (from langchain) (2.31.0)\n",
      "Requirement already satisfied: tenacity<9.0.0,>=8.1.0 in /usr/local/anaconda3/lib/python3.10/site-packages (from langchain) (8.2.3)\n",
      "Requirement already satisfied: pydantic<3,>=1 in /usr/local/anaconda3/lib/python3.10/site-packages (from langchain) (2.5.3)\n",
      "Requirement already satisfied: langchain-text-splitters<0.1,>=0.0.1 in /usr/local/anaconda3/lib/python3.10/site-packages (from langchain) (0.0.1)\n",
      "Requirement already satisfied: jsonpatch<2.0,>=1.33 in /usr/local/anaconda3/lib/python3.10/site-packages (from langchain) (1.33)\n",
      "Requirement already satisfied: PyYAML>=5.3 in /usr/local/anaconda3/lib/python3.10/site-packages (from langchain) (6.0.1)\n",
      "Requirement already satisfied: numpy<2,>=1 in /usr/local/anaconda3/lib/python3.10/site-packages (from langchain) (1.26.4)\n",
      "Requirement already satisfied: langchain-core<0.2.0,>=0.1.48 in /usr/local/anaconda3/lib/python3.10/site-packages (from langchain) (0.1.52)\n",
      "Requirement already satisfied: dataclasses-json<0.7,>=0.5.7 in /usr/local/anaconda3/lib/python3.10/site-packages (from langchain) (0.6.5)\n",
      "Requirement already satisfied: langchain-community<0.1,>=0.0.36 in /usr/local/anaconda3/lib/python3.10/site-packages (from langchain) (0.0.37)\n",
      "Requirement already satisfied: multidict<7.0,>=4.5 in /usr/local/anaconda3/lib/python3.10/site-packages (from aiohttp<4.0.0,>=3.8.3->langchain) (6.0.5)\n",
      "Requirement already satisfied: yarl<2.0,>=1.0 in /usr/local/anaconda3/lib/python3.10/site-packages (from aiohttp<4.0.0,>=3.8.3->langchain) (1.9.4)\n",
      "Requirement already satisfied: aiosignal>=1.1.2 in /usr/local/anaconda3/lib/python3.10/site-packages (from aiohttp<4.0.0,>=3.8.3->langchain) (1.3.1)\n",
      "Requirement already satisfied: attrs>=17.3.0 in /usr/local/anaconda3/lib/python3.10/site-packages (from aiohttp<4.0.0,>=3.8.3->langchain) (23.1.0)\n",
      "Requirement already satisfied: frozenlist>=1.1.1 in /usr/local/anaconda3/lib/python3.10/site-packages (from aiohttp<4.0.0,>=3.8.3->langchain) (1.4.1)\n",
      "Requirement already satisfied: marshmallow<4.0.0,>=3.18.0 in /usr/local/anaconda3/lib/python3.10/site-packages (from dataclasses-json<0.7,>=0.5.7->langchain) (3.21.1)\n",
      "Requirement already satisfied: typing-inspect<1,>=0.4.0 in /usr/local/anaconda3/lib/python3.10/site-packages (from dataclasses-json<0.7,>=0.5.7->langchain) (0.9.0)\n",
      "Requirement already satisfied: jsonpointer>=1.9 in /usr/local/anaconda3/lib/python3.10/site-packages (from jsonpatch<2.0,>=1.33->langchain) (2.1)\n",
      "Requirement already satisfied: packaging<24.0,>=23.2 in /usr/local/anaconda3/lib/python3.10/site-packages (from langchain-core<0.2.0,>=0.1.48->langchain) (23.2)\n",
      "Requirement already satisfied: orjson<4.0.0,>=3.9.14 in /usr/local/anaconda3/lib/python3.10/site-packages (from langsmith<0.2.0,>=0.1.17->langchain) (3.10.1)\n",
      "Requirement already satisfied: typing-extensions>=4.6.1 in /usr/local/anaconda3/lib/python3.10/site-packages (from pydantic<3,>=1->langchain) (4.9.0)\n",
      "Requirement already satisfied: pydantic-core==2.14.6 in /usr/local/anaconda3/lib/python3.10/site-packages (from pydantic<3,>=1->langchain) (2.14.6)\n",
      "Requirement already satisfied: annotated-types>=0.4.0 in /usr/local/anaconda3/lib/python3.10/site-packages (from pydantic<3,>=1->langchain) (0.6.0)\n",
      "Requirement already satisfied: certifi>=2017.4.17 in /usr/local/anaconda3/lib/python3.10/site-packages (from requests<3,>=2->langchain) (2024.2.2)\n",
      "Requirement already satisfied: charset-normalizer<4,>=2 in /usr/local/anaconda3/lib/python3.10/site-packages (from requests<3,>=2->langchain) (2.0.4)\n",
      "Requirement already satisfied: urllib3<3,>=1.21.1 in /usr/local/anaconda3/lib/python3.10/site-packages (from requests<3,>=2->langchain) (2.1.0)\n",
      "Requirement already satisfied: idna<4,>=2.5 in /usr/local/anaconda3/lib/python3.10/site-packages (from requests<3,>=2->langchain) (3.4)\n",
      "Requirement already satisfied: greenlet!=0.4.17 in /usr/local/anaconda3/lib/python3.10/site-packages (from SQLAlchemy<3,>=1.4->langchain) (3.0.3)\n",
      "Requirement already satisfied: mypy-extensions>=0.3.0 in /usr/local/anaconda3/lib/python3.10/site-packages (from typing-inspect<1,>=0.4.0->dataclasses-json<0.7,>=0.5.7->langchain) (1.0.0)\n",
      "Requirement already satisfied: openai in /usr/local/anaconda3/lib/python3.10/site-packages (1.26.0)\n",
      "Requirement already satisfied: tqdm>4 in /usr/local/anaconda3/lib/python3.10/site-packages (from openai) (4.65.0)\n",
      "Requirement already satisfied: pydantic<3,>=1.9.0 in /usr/local/anaconda3/lib/python3.10/site-packages (from openai) (2.5.3)\n",
      "Requirement already satisfied: httpx<1,>=0.23.0 in /usr/local/anaconda3/lib/python3.10/site-packages (from openai) (0.26.0)\n",
      "Requirement already satisfied: typing-extensions<5,>=4.7 in /usr/local/anaconda3/lib/python3.10/site-packages (from openai) (4.9.0)\n",
      "Requirement already satisfied: distro<2,>=1.7.0 in /usr/local/anaconda3/lib/python3.10/site-packages (from openai) (1.9.0)\n",
      "Requirement already satisfied: anyio<5,>=3.5.0 in /usr/local/anaconda3/lib/python3.10/site-packages (from openai) (3.7.1)\n",
      "Requirement already satisfied: sniffio in /usr/local/anaconda3/lib/python3.10/site-packages (from openai) (1.3.0)\n",
      "Requirement already satisfied: idna>=2.8 in /usr/local/anaconda3/lib/python3.10/site-packages (from anyio<5,>=3.5.0->openai) (3.4)\n",
      "Requirement already satisfied: exceptiongroup in /usr/local/anaconda3/lib/python3.10/site-packages (from anyio<5,>=3.5.0->openai) (1.2.0)\n",
      "Requirement already satisfied: certifi in /usr/local/anaconda3/lib/python3.10/site-packages (from httpx<1,>=0.23.0->openai) (2024.2.2)\n",
      "Requirement already satisfied: httpcore==1.* in /usr/local/anaconda3/lib/python3.10/site-packages (from httpx<1,>=0.23.0->openai) (1.0.2)\n",
      "Requirement already satisfied: h11<0.15,>=0.13 in /usr/local/anaconda3/lib/python3.10/site-packages (from httpcore==1.*->httpx<1,>=0.23.0->openai) (0.14.0)\n",
      "Requirement already satisfied: annotated-types>=0.4.0 in /usr/local/anaconda3/lib/python3.10/site-packages (from pydantic<3,>=1.9.0->openai) (0.6.0)\n",
      "Requirement already satisfied: pydantic-core==2.14.6 in /usr/local/anaconda3/lib/python3.10/site-packages (from pydantic<3,>=1.9.0->openai) (2.14.6)\n"
     ]
    }
   ],
   "source": [
    "!pip install --upgrade langchain\n",
    "!pip install --upgrade openai"
   ]
  },
  {
   "cell_type": "code",
   "execution_count": 20,
   "id": "e49ea251-192a-4efa-82da-08eeff0a2327",
   "metadata": {},
   "outputs": [],
   "source": [
    "class LoadData:\n",
    "\n",
    "    def run_select_statement(select_statement: str):\n",
    "        credentials = service_account.Credentials.from_service_account_file('/Users/rodrigomoraes/Library/CloudStorage/GoogleDrive-rg.moraes@totvs.com.br/My Drive/TOTVS LABS/key_SA_GCP/labs-poc-09feb4e7688e.json')\n",
    "\n",
    "        project_id = 'labs-poc'\n",
    "        client = bigquery.Client(credentials= credentials,project=project_id)\n",
    "\n",
    "        try:\n",
    "            # Perform a query.\n",
    "            query_job = client.query(select_statement)  # API request\n",
    "            result = query_job.result()\n",
    "            #result_df = result.to_dataframe()\n",
    "        except Exception as e:\n",
    "            print(f'Fetching resuls from database failed. {e}\\nSelect statement: {select_statement}')\n",
    "            raise\n",
    "    \n",
    "        return result"
   ]
  },
  {
   "cell_type": "code",
   "execution_count": 21,
   "metadata": {},
   "outputs": [
    {
     "ename": "AttributeError",
     "evalue": "module 'openai' has no attribute 'OpenAI'",
     "output_type": "error",
     "traceback": [
      "\u001b[0;31m---------------------------------------------------------------------------\u001b[0m",
      "\u001b[0;31mAttributeError\u001b[0m                            Traceback (most recent call last)",
      "Cell \u001b[0;32mIn[21], line 40\u001b[0m\n\u001b[1;32m     36\u001b[0m \u001b[38;5;28;01mfor\u001b[39;00m i, row \u001b[38;5;129;01min\u001b[39;00m result_df\u001b[38;5;241m.\u001b[39miterrows():\n\u001b[1;32m     37\u001b[0m     \u001b[38;5;66;03m#sentence = result_df['sentence'].values\u001b[39;00m\n\u001b[1;32m     38\u001b[0m     sentence \u001b[38;5;241m=\u001b[39m result_df\u001b[38;5;241m.\u001b[39mat[i,\u001b[38;5;124m'\u001b[39m\u001b[38;5;124msentence\u001b[39m\u001b[38;5;124m'\u001b[39m]\n\u001b[0;32m---> 40\u001b[0m     query_vec \u001b[38;5;241m=\u001b[39m  \u001b[43mOpenAIEmbeddings\u001b[49m\u001b[43m(\u001b[49m\n\u001b[1;32m     41\u001b[0m \u001b[43m            \u001b[49m\u001b[43mopenai_api_base\u001b[49m\u001b[38;5;241;43m=\u001b[39;49m\u001b[38;5;124;43m\"\u001b[39;49m\u001b[38;5;124;43mhttps://proxy.dta.totvs.ai/\u001b[39;49m\u001b[38;5;124;43m\"\u001b[39;49m\u001b[43m,\u001b[49m\n\u001b[1;32m     42\u001b[0m \u001b[43m            \u001b[49m\u001b[43mopenai_api_key\u001b[49m\u001b[38;5;241;43m=\u001b[39;49m\u001b[38;5;124;43m\"\u001b[39;49m\u001b[38;5;124;43msk-axyZ_tPhqNPbbywhdhhhKQ\u001b[39;49m\u001b[38;5;124;43m\"\u001b[39;49m\u001b[43m,\u001b[49m\n\u001b[1;32m     43\u001b[0m \u001b[43m            \u001b[49m\u001b[43mmodel\u001b[49m\u001b[38;5;241;43m=\u001b[39;49m\u001b[38;5;124;43m\"\u001b[39;49m\u001b[38;5;124;43mtext-embedding-ada-002\u001b[39;49m\u001b[38;5;124;43m\"\u001b[39;49m\n\u001b[1;32m     44\u001b[0m \u001b[43m        \u001b[49m\u001b[43m)\u001b[49m\u001b[38;5;241m.\u001b[39membed_query(sentence)\n\u001b[1;32m     45\u001b[0m     query_vec \u001b[38;5;241m=\u001b[39m np\u001b[38;5;241m.\u001b[39marray(query_vec)\n\u001b[1;32m     47\u001b[0m     result_df\u001b[38;5;241m.\u001b[39mat[i,\u001b[38;5;124m'\u001b[39m\u001b[38;5;124msentence_embedding\u001b[39m\u001b[38;5;124m'\u001b[39m] \u001b[38;5;241m=\u001b[39m query_vec\n",
      "File \u001b[0;32m/usr/local/anaconda3/lib/python3.10/site-packages/pydantic/v1/main.py:339\u001b[0m, in \u001b[0;36mBaseModel.__init__\u001b[0;34m(__pydantic_self__, **data)\u001b[0m\n\u001b[1;32m    333\u001b[0m \u001b[38;5;250m\u001b[39m\u001b[38;5;124;03m\"\"\"\u001b[39;00m\n\u001b[1;32m    334\u001b[0m \u001b[38;5;124;03mCreate a new model by parsing and validating input data from keyword arguments.\u001b[39;00m\n\u001b[1;32m    335\u001b[0m \n\u001b[1;32m    336\u001b[0m \u001b[38;5;124;03mRaises ValidationError if the input data cannot be parsed to form a valid model.\u001b[39;00m\n\u001b[1;32m    337\u001b[0m \u001b[38;5;124;03m\"\"\"\u001b[39;00m\n\u001b[1;32m    338\u001b[0m \u001b[38;5;66;03m# Uses something other than `self` the first arg to allow \"self\" as a settable attribute\u001b[39;00m\n\u001b[0;32m--> 339\u001b[0m values, fields_set, validation_error \u001b[38;5;241m=\u001b[39m \u001b[43mvalidate_model\u001b[49m\u001b[43m(\u001b[49m\u001b[43m__pydantic_self__\u001b[49m\u001b[38;5;241;43m.\u001b[39;49m\u001b[38;5;18;43m__class__\u001b[39;49m\u001b[43m,\u001b[49m\u001b[43m \u001b[49m\u001b[43mdata\u001b[49m\u001b[43m)\u001b[49m\n\u001b[1;32m    340\u001b[0m \u001b[38;5;28;01mif\u001b[39;00m validation_error:\n\u001b[1;32m    341\u001b[0m     \u001b[38;5;28;01mraise\u001b[39;00m validation_error\n",
      "File \u001b[0;32m/usr/local/anaconda3/lib/python3.10/site-packages/pydantic/v1/main.py:1102\u001b[0m, in \u001b[0;36mvalidate_model\u001b[0;34m(model, input_data, cls)\u001b[0m\n\u001b[1;32m   1100\u001b[0m     \u001b[38;5;28;01mcontinue\u001b[39;00m\n\u001b[1;32m   1101\u001b[0m \u001b[38;5;28;01mtry\u001b[39;00m:\n\u001b[0;32m-> 1102\u001b[0m     values \u001b[38;5;241m=\u001b[39m \u001b[43mvalidator\u001b[49m\u001b[43m(\u001b[49m\u001b[43mcls_\u001b[49m\u001b[43m,\u001b[49m\u001b[43m \u001b[49m\u001b[43mvalues\u001b[49m\u001b[43m)\u001b[49m\n\u001b[1;32m   1103\u001b[0m \u001b[38;5;28;01mexcept\u001b[39;00m (\u001b[38;5;167;01mValueError\u001b[39;00m, \u001b[38;5;167;01mTypeError\u001b[39;00m, \u001b[38;5;167;01mAssertionError\u001b[39;00m) \u001b[38;5;28;01mas\u001b[39;00m exc:\n\u001b[1;32m   1104\u001b[0m     errors\u001b[38;5;241m.\u001b[39mappend(ErrorWrapper(exc, loc\u001b[38;5;241m=\u001b[39mROOT_KEY))\n",
      "File \u001b[0;32m/usr/local/anaconda3/lib/python3.10/site-packages/langchain_openai/embeddings/base.py:232\u001b[0m, in \u001b[0;36mOpenAIEmbeddings.validate_environment\u001b[0;34m(cls, values)\u001b[0m\n\u001b[1;32m    230\u001b[0m \u001b[38;5;28;01mif\u001b[39;00m \u001b[38;5;129;01mnot\u001b[39;00m values\u001b[38;5;241m.\u001b[39mget(\u001b[38;5;124m\"\u001b[39m\u001b[38;5;124mclient\u001b[39m\u001b[38;5;124m\"\u001b[39m):\n\u001b[1;32m    231\u001b[0m     sync_specific \u001b[38;5;241m=\u001b[39m {\u001b[38;5;124m\"\u001b[39m\u001b[38;5;124mhttp_client\u001b[39m\u001b[38;5;124m\"\u001b[39m: values[\u001b[38;5;124m\"\u001b[39m\u001b[38;5;124mhttp_client\u001b[39m\u001b[38;5;124m\"\u001b[39m]}\n\u001b[0;32m--> 232\u001b[0m     values[\u001b[38;5;124m\"\u001b[39m\u001b[38;5;124mclient\u001b[39m\u001b[38;5;124m\"\u001b[39m] \u001b[38;5;241m=\u001b[39m \u001b[43mopenai\u001b[49m\u001b[38;5;241;43m.\u001b[39;49m\u001b[43mOpenAI\u001b[49m(\n\u001b[1;32m    233\u001b[0m         \u001b[38;5;241m*\u001b[39m\u001b[38;5;241m*\u001b[39mclient_params, \u001b[38;5;241m*\u001b[39m\u001b[38;5;241m*\u001b[39msync_specific\n\u001b[1;32m    234\u001b[0m     )\u001b[38;5;241m.\u001b[39membeddings\n\u001b[1;32m    235\u001b[0m \u001b[38;5;28;01mif\u001b[39;00m \u001b[38;5;129;01mnot\u001b[39;00m values\u001b[38;5;241m.\u001b[39mget(\u001b[38;5;124m\"\u001b[39m\u001b[38;5;124masync_client\u001b[39m\u001b[38;5;124m\"\u001b[39m):\n\u001b[1;32m    236\u001b[0m     async_specific \u001b[38;5;241m=\u001b[39m {\u001b[38;5;124m\"\u001b[39m\u001b[38;5;124mhttp_client\u001b[39m\u001b[38;5;124m\"\u001b[39m: values[\u001b[38;5;124m\"\u001b[39m\u001b[38;5;124mhttp_async_client\u001b[39m\u001b[38;5;124m\"\u001b[39m]}\n",
      "\u001b[0;31mAttributeError\u001b[0m: module 'openai' has no attribute 'OpenAI'"
     ]
    }
   ],
   "source": [
    "# Faz a leitura dos daods no BQ\n",
    "select_statement = (\"\"\"\n",
    "                SELECT\n",
    "                    ticket_id,\n",
    "                    ticket_comment as sentence,\n",
    "                    TO_HEX(MD5(LOWER(CONCAT(\n",
    "                        'tickets{',\n",
    "                        '\"ticket_id\":\"', ticket_id, '\",',\n",
    "                        '\"ticket_comment\":\"', ticket_comment, '\",',\n",
    "                        '}'\n",
    "                    )))) AS ticket_sentence_hash,\n",
    "                    module_name as module,\n",
    "                    product_name as product,\n",
    "                    '' as sentence_source,\n",
    "                    ticket_status,\n",
    "                    '[1,2,3]' as sentence_embedding,\n",
    "                    created_at,\n",
    "                    updated_at,\n",
    "                    '' as sanitized_solution, \n",
    "                    ''as solution, \n",
    "                    ''as summary\n",
    "                FROM\n",
    "                    `labs-poc`.custom_data.tickets\n",
    "                WHERE\n",
    "                    product_name IN ('Datasul')\n",
    "                    --AND mdmCreated > SAFE.DATETIME(DATE_SUB(CURRENT_DATE(), INTERVAL 1 MONTH))\n",
    "                    AND module_name IS NOT NULL \n",
    "                    AND ticket_id in (19421012, 19430975, 19580862, 19212381)\n",
    "                \"\"\")\n",
    "result_df = LoadData.run_select_statement(select_statement)\n",
    "\n",
    "result = LoadData.run_select_statement(select_statement)\n",
    "result_df = result.to_dataframe()\n",
    "\n",
    "# Cria os embeddings para inserir os registros.\n",
    "for i, row in result_df.iterrows():\n",
    "    #sentence = result_df['sentence'].values\n",
    "    sentence = result_df.at[i,'sentence']\n",
    "\n",
    "    query_vec =  OpenAIEmbeddings(\n",
    "            openai_api_base=\"https://proxy.dta.totvs.ai/\",\n",
    "            openai_api_key=\"sk-axyZ_tPhqNPbbywhdhhhKQ\",\n",
    "            model=\"text-embedding-ada-002\"\n",
    "        ).embed_query(sentence)\n",
    "    query_vec = np.array(query_vec)\n",
    "    \n",
    "    result_df.at[i,'sentence_embedding'] = query_vec\n",
    "    \n",
    "result_df.head()\n"
   ]
  },
  {
   "cell_type": "code",
   "execution_count": 173,
   "id": "277bd1c2-49cc-4be2-ab2d-19fe5ceb6b86",
   "metadata": {
    "tags": []
   },
   "outputs": [],
   "source": [
    "class DatabaseService:\n",
    "\n",
    "    def __init__(self):\n",
    "        db_user='tecsupport'\n",
    "        db_password='?Hi((<={}F{nI=jp'\n",
    "        db_database='tecsupport'\n",
    "        db_port='5432'\n",
    "        db_host='34.123.172.21'\n",
    "        self.connection_str = f\"host='{db_host}' port='{db_port}' dbname='{db_database}' user='{db_user}' password='{db_password}'\"\n",
    "\n",
    "    def _get_database_connection(self):\n",
    "        return psycopg2.connect(self.connection_str)\n",
    "\n",
    "    def run_select_statement(self, select_statement: str, vars=None):\n",
    "        logger = get_logger(__name__)\n",
    "        \n",
    "        try:\n",
    "            conn = self._get_database_connection()\n",
    "            register_vector(conn)\n",
    "        except Exception as e:\n",
    "            logger.error(f'Connecting to database failed. {e}')\n",
    "            return []\n",
    "        try:\n",
    "            cursor = conn.cursor()\n",
    "            cursor.execute(select_statement, vars=vars)\n",
    "            fields = [field_md[0] for field_md in cursor.description]\n",
    "            result = cursor.fetchall()\n",
    "            result = [dict(zip(fields, row)) for row in result]\n",
    "        except Exception as e:\n",
    "            logger.error(f'Fetching resuls from database failed. {e}\\nSelect statement: {select_statement}')\n",
    "            conn.rollback()\n",
    "            result = []\n",
    "    \n",
    "    def run_dml_statement(self, df: str, table: str, vars=None): \n",
    "        logger = get_logger(__name__)\n",
    "        \n",
    "        try:\n",
    "            conn = self._get_database_connection()\n",
    "            register_vector(conn)\n",
    "        except Exception as e:\n",
    "            logger.error(f'Connecting to database failed. {e}')\n",
    "            return []\n",
    "        \n",
    "        tuples = [tuple(x) for x in df.to_numpy()] \n",
    "  \n",
    "        cols = ','.join(list(df.columns)) \n",
    "        # SQL query to execute \n",
    "        query = \"INSERT INTO %s(%s) VALUES %%s\" % (table, cols) \n",
    "        cursor = conn.cursor() \n",
    "        try: \n",
    "            extras.execute_values(cursor, query, tuples) \n",
    "            conn.commit() \n",
    "        except (Exception, psycopg2.DatabaseError) as error: \n",
    "            print(\"Error: %s\" % error) \n",
    "            conn.rollback() \n",
    "            cursor.close() \n",
    "            return 1\n",
    "        print(\"the dataframe is inserted\") \n",
    "        cursor.close()  \n",
    "\n",
    "        return result"
   ]
  },
  {
   "cell_type": "code",
   "execution_count": 215,
   "metadata": {},
   "outputs": [
    {
     "name": "stdout",
     "output_type": "stream",
     "text": [
      "the dataframe is inserted\n",
      "<google.cloud.bigquery.table.RowIterator object at 0x7ff60aba56c0>\n"
     ]
    }
   ],
   "source": [
    "# Grava o resultado dos dados coletados no BQ e faz insert do Dataframe diretamente no Banco Vetorizado\n",
    "result = DatabaseService().run_dml_statement(result_df, 'tickets_embeddings')\n",
    "\n",
    "#DocumentSearchService().find_documents_for_query(query, product, module, k=3)\n",
    "print(result)"
   ]
  },
  {
   "cell_type": "code",
   "execution_count": 232,
   "id": "7a3daed6-90fa-4b22-a63f-6e27fd666335",
   "metadata": {},
   "outputs": [],
   "source": [
    "logger = get_logger(__name__)\n",
    "\n",
    "EMBEDDINGS_SELECT_COLUMNS = ['ticket_id', 'sentence', 'module', 'product', 'sanitized_solution', \n",
    "                            'sentence_source', 'solution', 'summary', 'score']\n",
    "\n",
    "class DocumentSearchService:\n",
    "\n",
    "    def __init__(self):\n",
    "        self.database_service = DatabaseService()\n",
    "        self.threshold = 60\n",
    "\n",
    "    def keyword_search_on_database(self, query: str, product: str, module: str):\n",
    "\n",
    "        table_name = 'tickets_embeddings'\n",
    "\n",
    "        select_statement = f'''\n",
    "            select * from (\n",
    "            select *,\n",
    "            (array_length(intersec, 1) * 0.9 / array_length(query_tokens, 1)) as query_in_sentence_score,\n",
    "            (array_length(intersec, 1) * 0.9 / array_length(sentence_array, 1)) as sentence_in_query_score from (\n",
    "            SELECT *, ARRAY\n",
    "                (\n",
    "                    SELECT UNNEST(sentence_array)\n",
    "                    INTERSECT\n",
    "                    SELECT UNNEST(query_tokens)\n",
    "                ) as intersec\n",
    "            FROM (\n",
    "                    SELECT ticket_id, sentence, module, product, \n",
    "                            sentence_source, solution, summary, \n",
    "                            STRING_TO_ARRAY(sentence, ' ') as sentence_array,\n",
    "                            STRING_TO_ARRAY('{query}', ' ') as query_tokens\n",
    "                    from {table_name}\n",
    "                    where product = '{product}'\n",
    "                    and module = '{module}'\n",
    "                ) as subquery_product_module\n",
    "            ) as subquery_intersec\n",
    "            ) as final_query\n",
    "            where query_in_sentence_score >= 0.45 or sentence_in_query_score >= 0.45;'''\n",
    "        result = self.database_service.run_select_statement(select_statement)\n",
    "        #result = LoadData.run_select_statement(select_statement)\n",
    "        df = pd.DataFrame(result)\n",
    "        if df.empty:\n",
    "            return pd.DataFrame(columns=EMBEDDINGS_SELECT_COLUMNS)\n",
    "        df['score'] = df[['query_in_sentence_score', 'sentence_in_query_score']].max(axis=1)\n",
    "        df = df.drop(columns=['query_in_sentence_score', 'sentence_in_query_score'])\n",
    "        return df\n",
    "\n",
    "    def embeddings_search_on_database(self, query_vec: np.array, product: str, module: str,\n",
    "                                      threshold: int):\n",
    "        table_name = 'tickets_embeddings'\n",
    "\n",
    "        select_statement = f'''SELECT * FROM\n",
    "                            (SELECT *, 1 - (sentence_embedding <-> %s) as score FROM public.{table_name}\n",
    "                            WHERE product = '{product}' AND module = '{module}') as filtered_kb\n",
    "                            WHERE score > {threshold/100};'''\n",
    "        # select_statement = f'''SELECT {', '.join(EMBEDDINGS_SELECT_COLUMNS)} FROM\n",
    "        #                     (SELECT *, 1 - (sentence_embedding <-> %s) as score FROM public.{table_name}\n",
    "        #                     WHERE product = '{product}' AND module = '{module}') as filtered_kb\n",
    "        #                     WHERE score > {threshold/100};'''\n",
    "        result = self.database_service.run_select_statement(select_statement, (query_vec,))\n",
    "        print(select_statement)\n",
    "\n",
    "        return pd.DataFrame(result)\n",
    "\n",
    "    def find_documents_for_query(self, query: str, product: str, module: str,\n",
    "                                 k: int):\n",
    "\n",
    "        # Searching documents using similarity of OpenAPI embeddings\n",
    "        query_vec =  OpenAIEmbeddings(\n",
    "            openai_api_base=\"https://proxy.dta.totvs.ai/\",\n",
    "            openai_api_key=\"sk-axyZ_tPhqNPbbywhdhhhKQ\",\n",
    "            model=\"text-embedding-ada-002\"\n",
    "        ).embed_query(query)\n",
    "        query_vec = np.array(query_vec)\n",
    "\n",
    "        results = self.embeddings_search_on_database(query_vec, product, module, self.threshold)\n",
    "\n",
    "        # Getting only results with score higher than threshold\n",
    "        results = results[results[\"score\"] >= self.threshold / 100].copy()\n",
    "\n",
    "        # Ordering results by score\n",
    "        results.sort_values(by=\"score\", ascending=False, inplace=True)\n",
    "\n",
    "        # Keeping only the highest rank per ticket'\n",
    "        results.drop_duplicates(subset=['ticket_id'], keep=\"first\", inplace=True)\n",
    "        results = results.head(k)\n",
    "\n",
    "        return results"
   ]
  },
  {
   "cell_type": "code",
   "execution_count": 175,
   "id": "9a999a8b",
   "metadata": {},
   "outputs": [],
   "source": [
    "llm = ChatOpenAI(\n",
    "            openai_api_base=\"https://proxy.dta.totvs.ai/\",\n",
    "            openai_api_key=\"sk-axyZ_tPhqNPbbywhdhhhKQ\",\n",
    "            temperature=0,\n",
    "            model=\"gpt-4-1106-preview\",\n",
    "        )"
   ]
  },
  {
   "cell_type": "code",
   "execution_count": 176,
   "id": "53cc86fb-18b6-4a35-bc36-c66c243b048a",
   "metadata": {},
   "outputs": [
    {
     "data": {
      "text/plain": [
       "ChatOpenAI(client=<openai.resources.chat.completions.Completions object at 0x7ff60adf9450>, async_client=<openai.resources.chat.completions.AsyncCompletions object at 0x7ff60acc0280>, model_name='gpt-4-1106-preview', temperature=0.0, openai_api_key=SecretStr('**********'), openai_api_base='https://proxy.dta.totvs.ai/', openai_proxy='')"
      ]
     },
     "execution_count": 176,
     "metadata": {},
     "output_type": "execute_result"
    }
   ],
   "source": [
    "llm"
   ]
  },
  {
   "cell_type": "code",
   "execution_count": 177,
   "id": "057d55e5-7f9b-447c-9417-92010d8ab4f9",
   "metadata": {},
   "outputs": [],
   "source": [
    "def _get_tokens_length(text: str) -> int:\n",
    "    encondig = tiktoken.encoding_for_model(\"text-embedding-ada-002\")\n",
    "    return len(encondig.encode(text))\n",
    "\n",
    "def _get_sentence_by_tokens_number(sentence: str) -> str | list[str]:\n",
    "    if _get_tokens_length(sentence) > 3000:\n",
    "        text_spliter = CharacterTextSplitter(chunk_size=400, chunk_overlap=0, separator=\".\")\n",
    "        return text_spliter.split_text(sentence)\n",
    "    return sentence\n",
    "\n",
    "def generate_chain_docs(query: str, sentence: str) -> list[Document]:\n",
    "    sentence = _get_sentence_by_tokens_number(sentence)\n",
    "\n",
    "    if isinstance(sentence, str):\n",
    "        docs = [Document(page_content=sentence)]\n",
    "\n",
    "    if isinstance(sentence, list):\n",
    "        solution_docs = [Document(page_content=text) for text in sentence]\n",
    "        embeddings = OpenAIEmbeddings(\n",
    "            openai_api_base=\"https://proxy.dta.totvs.ai/\",\n",
    "            openai_api_key=\"sk-axyZ_tPhqNPbbywhdhhhKQ\",\n",
    "            model=\"text-embedding-ada-002\"\n",
    "        )\n",
    "        db = DocArrayInMemorySearch.from_documents(\n",
    "            solution_docs,\n",
    "            embeddings\n",
    "        )\n",
    "        docs = db.similarity_search(query)\n",
    "    return docs"
   ]
  },
  {
   "cell_type": "code",
   "execution_count": 148,
   "id": "ae8ee2b4-4ee5-4ede-b83f-33396175dc09",
   "metadata": {},
   "outputs": [],
   "source": [
    "def get_transform_response_prompt_template() -> PromptTemplate:\n",
    "    transform_response_template = (\n",
    "        \"You are a helpful support assistant that needs to help the user to have your query answered.\"\n",
    "        \"The context related with the query is provided below. \\n\"\n",
    "        \"---------------------\\n\"\n",
    "        \"{context}\"\n",
    "        \"\\n---------------------\\n\"\n",
    "        \"Given the documentation information and not prior knowledge,\"\n",
    "        \"answer the query and give instructions summing up the document, using only the context: {query}\\n\"\n",
    "        \"If you are not certain that the documentation answers the query mention that it is not a certainty\"\n",
    "        \"Your answer should be in {language} and with limit of 24 lines\\n\"\n",
    "        \"You should encourage the user to click in the each of these links {links} for more informations.\\n\"\n",
    "        \"Put the link between spaces and not modificate anything of the link.\"\n",
    "    )\n",
    "    return PromptTemplate(input_variables=[\"context\", \"query\", \"links\", \"language\"], template=transform_response_template)"
   ]
  },
  {
   "cell_type": "code",
   "execution_count": 178,
   "id": "a30d84b0-e975-46ef-856e-0b99a419d6b0",
   "metadata": {},
   "outputs": [],
   "source": [
    "def get_transform_response_prompt_template() -> PromptTemplate:\n",
    "    transform_response_template = (\n",
    "       \"The following are passages related to query {query}\\n\"\n",
    "        \"---------------------\\n\"\n",
    "        \"{context}\"\n",
    "        \"\\n---------------------\\n\"\n",
    "        \"Given the passages information and not prior knowledge,\"\n",
    "        \"answer the query and give instructions summing up the passages\\n\"\n",
    "        \"If you are not certain that the passages answer the query mention that it is not a certainty.\\n\"\n",
    "        \"Your answer should be in {language} and with limit of 24 lines\\n\"\n",
    "        \"After each passage you should encourage the user to click on their corresponding link from these links {links}\\n\"\n",
    "        \"Put the link between spaces and not modificate anything of the link.\"\n",
    "    )\n",
    "    return PromptTemplate(input_variables=[\"context\", \"query\", \"links\", \"language\"], template=transform_response_template)"
   ]
  },
  {
   "cell_type": "code",
   "execution_count": 179,
   "id": "b820da8f-d615-4c89-954e-09ff43447357",
   "metadata": {},
   "outputs": [],
   "source": [
    "chain = load_qa_chain(llm, prompt=get_transform_response_prompt_template())"
   ]
  },
  {
   "cell_type": "code",
   "execution_count": 180,
   "metadata": {},
   "outputs": [],
   "source": [
    "def transform_sentence(sentence):\n",
    "    # Ensure the parameter type as string\n",
    "    mproc0 = str(sentence)\n",
    "\n",
    "    # Set all messages to a standard encoding\n",
    "    mproc1 = ftfy.fix_encoding(mproc0)\n",
    "\n",
    "    # Replaces accentuation from chars. Ex.: \"férias\" becomes \"ferias\"\n",
    "    mproc2 = unidecode(mproc1)\n",
    "\n",
    "    # Removes special chars from the sentence. Ex.:\n",
    "    #  - before: \"MP - SIGAEST - MATA330/MATA331 - HELP CTGNOCAD\"\n",
    "    #  - after:  \"MP   SIGAEST   MATA330 MATA331   HELP CTGNOCAD\"\n",
    "    mproc3 = re.sub('[^0-9a-zA-Z]', \" \", mproc2)\n",
    "\n",
    "    with open('custom_stopwords.txt', 'r') as file:\n",
    "        custom_stopwords = file.read().splitlines()\n",
    "\n",
    "    # Sets capital to lower case maintaining full upper case tokens and remove portuguese stop words.\n",
    "    #  - before: \"MP   MEU RH   Horario ou Data registrado errado em solicitacoes do MEU RH\"\n",
    "    #  - after:  \"MP MEU RH horario data registrado errado solicitacoes MEU RH\"\n",
    "    mproc4 = \" \".join([t.lower() for t in mproc3.split() if t not in custom_stopwords])\n",
    "\n",
    "    return mproc4"
   ]
  },
  {
   "cell_type": "code",
   "execution_count": 244,
   "id": "defbe43b",
   "metadata": {},
   "outputs": [],
   "source": [
    "EMBEDDINGS_SELECT_COLUMNS = ['ticket_id', 'sentence', 'ticket_sentence_hash', 'module', 'product',\n",
    "                             'sentence_source', 'ticket_status', 'created_at', 'updated_at', 'score']\n",
    "\n",
    "\n",
    "class DocumentSearchService:\n",
    "\n",
    "    def __init__(self):\n",
    "        self.database_service = DatabaseService()\n",
    "        self.threshold = 60\n",
    "\n",
    "    def embeddings_search_on_database(self, query_vec: np.array, product: str, module: str,\n",
    "                                      threshold: int):\n",
    "        table_name = 'tickets_embeddings'\n",
    "        select_statement = f'''SELECT * FROM\n",
    "                            (SELECT *, 1 - (sentence_embedding <-> %s) as score FROM public.{table_name}\n",
    "                            WHERE product = '{product}' AND module = '{module}') as filtered_kb\n",
    "                            WHERE score > {threshold/100};'''\n",
    "        result = self.database_service.run_select_statement(select_statement, (query_vec,))\n",
    "        return pd.DataFrame(result)\n",
    "\n",
    "    def find_tickets_for_query(self, query: str, product: str, module: str, k: int):\n",
    "\n",
    "        # Searching tickets using similarity of OpenAPI embeddings\n",
    "        query_vec =  OpenAIEmbeddings(\n",
    "            openai_api_base=\"https://proxy.dta.totvs.ai/\",\n",
    "            openai_api_key=\"sk-axyZ_tPhqNPbbywhdhhhKQ\",\n",
    "            model=\"text-embedding-ada-002\"\n",
    "        ).embed_query(query)\n",
    "        query_vec = np.array(query_vec)\n",
    "        results = self.embeddings_search_on_database(query_vec, product, module, self.threshold)\n",
    "\n",
    "        # Getting only results with score higher than threshold\n",
    "        results = results[results[\"score\"] >= self.threshold / 100].copy()\n",
    "\n",
    "        # Ordering results by score\n",
    "        results.sort_values(by=\"score\", ascending=False, inplace=True)\n",
    "\n",
    "        # Keeping only the highest rank per ticket'\n",
    "        results.drop_duplicates(subset=['ticket_id'], keep=\"first\", inplace=True)\n",
    "        results = results.head(k)\n",
    "\n",
    "        return results"
   ]
  },
  {
   "cell_type": "code",
   "execution_count": 245,
   "id": "f4d7ede8-0515-418b-8ed5-cb904bbcbf0d",
   "metadata": {},
   "outputs": [],
   "source": [
    "# 360058709693\n",
    "query = 'Podemos transferir para consultoria paga, para que seja feito um acesso em conjunto para analisarmos e solucionarmos o problema?'\n",
    "product = 'Datasul'\n",
    "module = 'Banco de Dados'"
   ]
  },
  {
   "cell_type": "code",
   "execution_count": 246,
   "id": "3728061e-a0b2-49b2-b786-9a0dec422881",
   "metadata": {},
   "outputs": [
    {
     "name": "stdout",
     "output_type": "stream",
     "text": [
      "Podemos transferir para consultoria paga, para que seja feito um acesso em conjunto para analisarmos e solucionarmos o problema?\n"
     ]
    },
    {
     "ename": "AttributeError",
     "evalue": "'DocumentSearchServiceTest' object has no attribute 'find_documents_for_querytest'",
     "output_type": "error",
     "traceback": [
      "\u001b[0;31m---------------------------------------------------------------------------\u001b[0m",
      "\u001b[0;31mAttributeError\u001b[0m                            Traceback (most recent call last)",
      "\u001b[1;32m/Users/rodrigomoraes/Library/CloudStorage/GoogleDrive-rg.moraes@totvs.com.br/My Drive/similarity-tickets/notebooks/tickets_similares_poc.ipynb Cell 16\u001b[0m line \u001b[0;36m2\n\u001b[1;32m      <a href='vscode-notebook-cell:/Users/rodrigomoraes/Library/CloudStorage/GoogleDrive-rg.moraes%40totvs.com.br/My%20Drive/similarity-tickets/notebooks/tickets_similares_poc.ipynb#X20sZmlsZQ%3D%3D?line=0'>1</a>\u001b[0m \u001b[39mprint\u001b[39m(query)\n\u001b[0;32m----> <a href='vscode-notebook-cell:/Users/rodrigomoraes/Library/CloudStorage/GoogleDrive-rg.moraes%40totvs.com.br/My%20Drive/similarity-tickets/notebooks/tickets_similares_poc.ipynb#X20sZmlsZQ%3D%3D?line=1'>2</a>\u001b[0m documents_df \u001b[39m=\u001b[39m DocumentSearchServiceTest()\u001b[39m.\u001b[39;49mfind_documents_for_querytest(query, product, module, k\u001b[39m=\u001b[39m\u001b[39m3\u001b[39m)\n",
      "\u001b[0;31mAttributeError\u001b[0m: 'DocumentSearchServiceTest' object has no attribute 'find_documents_for_querytest'"
     ]
    }
   ],
   "source": [
    "print(query)\n",
    "documents_df = DocumentSearchServiceTest().find_documents_for_querytest(query, product, module, k=3)"
   ]
  },
  {
   "cell_type": "code",
   "execution_count": 220,
   "id": "daecde4f-05b6-4a98-8460-4582facad668",
   "metadata": {},
   "outputs": [
    {
     "data": {
      "text/html": [
       "<div>\n",
       "<style scoped>\n",
       "    .dataframe tbody tr th:only-of-type {\n",
       "        vertical-align: middle;\n",
       "    }\n",
       "\n",
       "    .dataframe tbody tr th {\n",
       "        vertical-align: top;\n",
       "    }\n",
       "\n",
       "    .dataframe thead th {\n",
       "        text-align: right;\n",
       "    }\n",
       "</style>\n",
       "<table border=\"1\" class=\"dataframe\">\n",
       "  <thead>\n",
       "    <tr style=\"text-align: right;\">\n",
       "      <th></th>\n",
       "      <th>ticket_id</th>\n",
       "      <th>sentence</th>\n",
       "      <th>module</th>\n",
       "      <th>product</th>\n",
       "      <th>sanitized_solution</th>\n",
       "      <th>sentence_source</th>\n",
       "      <th>solution</th>\n",
       "      <th>summary</th>\n",
       "      <th>score</th>\n",
       "      <th>type_of_search</th>\n",
       "    </tr>\n",
       "  </thead>\n",
       "  <tbody>\n",
       "  </tbody>\n",
       "</table>\n",
       "</div>"
      ],
      "text/plain": [
       "Empty DataFrame\n",
       "Columns: [ticket_id, sentence, module, product, sanitized_solution, sentence_source, solution, summary, score, type_of_search]\n",
       "Index: []"
      ]
     },
     "execution_count": 220,
     "metadata": {},
     "output_type": "execute_result"
    }
   ],
   "source": [
    "documents_df"
   ]
  },
  {
   "cell_type": "code",
   "execution_count": 128,
   "id": "f8f31ef2",
   "metadata": {},
   "outputs": [
    {
     "name": "stdout",
     "output_type": "stream",
     "text": [
      "podemos transferir consultoria paga feito acesso conjunto analisarmos solucionarmos problema\n",
      "[0.013569739968009416, 0.006605161044435864, 0.01886607564883217, -0.029106109159843484, 0.0030669240074709223, 0.013251010641796014, -0.016831631238811116, -0.0197069798598482, -0.007961456852121938, -0.017631845965580255, 0.004045152666683037, 0.009372004529368358, 0.03143894001659969, 0.003889178483489377, -0.010741863653690493, -0.0014859916760778201, 0.020276623326078592, -0.012552518694321484, 0.0016826545286110902, -0.008069960591242632, -0.020778453468757774, -0.0001249275694565647, -0.0242776969599243, -0.017374150865737178, -0.010138311663039296, -0.02902473205399491, 0.008876956277837855, -0.00312456658977496, -0.014851440095334298, -0.016180610666732147, 0.019964674959691276, -0.006825559002590293, -0.010199344958087024, -0.018404934990399874, -0.03442278958278968, -0.010762207464491337, 0.011596329784358683, 0.008158119588239884, 0.010619797063595037, -0.009263500790247665, 0.01580084711414842, -0.021063274270550377, 0.0023345242340675385, -0.019869734071545343, 0.012043907591816219, 0.021063274270550377, -0.011765866818527104, -0.009507633970438576, -0.03748801811747343, 0.008463286063478523, -0.006340683122121511, 0.0003827297568463389, -0.03019114655105042, -0.011698051632330697, -0.01547533589678634, 0.025308481084586998, -0.01897457845663027, 0.008463286063478523, 0.0009070228766873409, -0.005872761038201831, 0.004136702609254628, -0.023735177332998236, -0.030218272252999945, -0.016926572126957046, -0.01368502559827879, 0.015990728890440283, 0.009636482451682712, 0.0029363805191009156, 0.0023158751975619163, -0.003916304185438901, 0.04011923169567441, 0.02175498618952142, -0.015733031927952012, -0.013623992303231061, 0.031113427867915017, -0.016736690350665183, -0.004597842802025629, -0.02932311663808487, -0.007398593880056327, 0.024304822661873827, 0.031167679271814065, -0.003997682222610071, -0.03160169422829684, -0.008158119588239884, 0.023911497189637934, 0.011460700343288464, 0.009032930461031515, 0.020886956276555874, -0.005804946317666723, -0.0039298675020749615, 0.0006281345416276278, 0.03358188723441885, 0.011562422191260479, -0.012593207247245771, 0.00140715696450273, 0.016167046884434787, -0.02014099295368578, 0.03610459800482173, -0.002470153907968406, -0.0016835022650046752, 0.0014732764450813183, 0.002836353678254773, -0.04291320321086292, -0.008361564215506509, -0.017238520493344366, -0.01746909175388311, 0.02244669624584727, -0.010504511433325665, 0.004316411548823472, -0.006635677691959728, -0.025511924780531024, 0.03705400316099066, -0.016980823530856094, -0.006062642348832396, -0.003963774629511867, -0.011670925930381174, -0.002443027973188232, -0.026149385295603022, -0.021022586648948686, -0.023870807705391052, 0.015760157629901538, 0.003997682222610071, 0.024440451171621448, -0.00476059841070667, -0.0006929824176158387, 0.0038179728173799287, -0.01830999410225394, -0.012416888321928669, -0.02954012411632626, -0.01024681540215999, -0.0033093619477053133, 0.015977165108142923, 0.016180610666732147, 0.000993486750143397, -0.0167638179152599, -0.0020497020352910427, -0.02954012411632626, 0.014756499207188366, -0.020683512580611844, -0.005350587084721805, 0.02241957054389775, 0.02423700747567742, 0.007961456852121938, -0.012661022433442177, -0.013006877461605103, 0.02281289601613364, 0.02378943059954248, -0.0019259400888237414, 0.005581157413937954, -0.009202467495199937, 0.008510756507551488, -0.014525928877972218, 0.005913450056787416, -0.018404934990399874, 0.00931775312546931, -0.004743644614157568, -0.003841708039416411, 0.02255520091629056, -0.03786778167005716, -0.009744986190803405, -0.001260507532392531, 0.002371822307078784, 0.03545357370745238, 0.023029903494375028, 0.007520660470151782, 0.0398750985154835, -0.008185245290189408, 0.0035229784803723608, 0.023233349052964248, 0.004462213360955411, -0.01244401495520079, 0.025267791600340112, -0.00914143420015221, 0.01022647066003655, 0.005689661153058648, 0.012410107362102588, -0.014865002946309061, 0.006581425822399381, 0.0033280109842109356, -0.01775391255567571, 0.01634336487842929, 0.01947640859930945, -0.00672383668895698, 0.02361311074290278, -0.0128305594676106, 0.015543151082982747, 0.00042532592038300933, 0.004241815402800982, 0.011514951747187514, 0.0009214335222633503, 0.018554127282444852, 0.00898546001695855, -0.016831631238811116, -0.01040278958535365, -0.6488519464345149, -0.015868662300344828, 0.006055860923345015, -0.023735177332998236, 0.004828413131241778, 0.005672707356509546, 0.013400202933840994, 0.0009773806899878801, -0.025525488562828384, -0.04109576441643806, -0.020344438512275, 0.018649068170590786, -0.02321978527066689, 0.010714737020418372, 0.002227715967734015, -0.011019904426979608, -0.007425720047667149, -0.005828681539703205, 0.016736690350665183, 0.010423133396154494, -0.015285454120494476, 0.008219152883287612, 0.00029372281972868386, 0.032605354513655205, 0.0042180801807645, -0.023775866817245122, 0.023029903494375028, -0.009738204299654725, -0.028997606352045388, 0.006350855493183232, -0.02891622738355162, -0.0037806747443686834, -0.019815482667646295, -0.02568824463717072, 0.06640424736367025, -0.0003581468857277645, -0.012437233064052112, 0.006289822198135504, 0.015638091039806082, 0.03328350265032889, -0.00017568270101636058, -0.006717055263469599, 0.036972624192496896, 0.01391559592749494, 0.005581157413937954, 0.004594452322112587, 0.0024209882239389193, -0.013969847331393987, -0.028807724575753525, -0.0003710740799264937, 0.004913181648325989, -0.012009999998718017, -0.017333461381490296, -0.011731959225428901, 0.007317216308546455, -0.005099672479043512, 0.009643263411508795, -0.01837780928845035, -0.01305434790567807, 0.018689757654837668, 0.0030737054329583033, -0.0009307580405161616, -0.014091913921489443, -0.037352387745080616, -0.016438305766575224, -0.01742840226963623, -0.01837780928845035, 0.019571349487455383, 0.0034144749740823164, -0.018608378686343904, 0.031493191420498744, -0.0008468372598255357, -0.029730005892618122, 0.031927206376981515, 0.0028855195951149088, 0.009995900330820399, 0.01680450553686159, -0.02338254134500923, -0.013481580971012165, -0.0027804065687379053, -0.011196222420974112, -0.004028198870133935, -0.015488898747761102, -0.005503170322341124, 0.03396164706171219, 0.010063715517016807, -0.013189977346748287, -0.025186414494491542, -0.010179000215963583, 0.01406478821953992, 0.016723128431013017, 0.02195842988546545, 0.004987778260009778, -0.002127689126887872, 0.00954154156353678, 0.020575007910168554, -0.036511485396709786, 0.023355415643059704, 0.0057642572990811375, -0.013739277002177837, -0.033500508265925086, -0.013386640082866233, 0.01509557327552521, -0.01736058708343982, 0.03732526390577629, 0.007425720047667149, -0.03670136717300165, -0.005167487199578621, 0.03404302603020595, -0.024860904208452057, 0.00113250702037263, -0.007296872032084312, 0.01624842399028336, -0.02231106773609965, 0.014430987989826286, -0.03721675737268781, -0.0019801920747994127, 0.00492674496496205, -0.0011333547567662148, -0.00913465230900353, -0.0008387842297477773, 0.003212725819602861, 0.02255520091629056, -0.015082010424550448, 0.012532173952198043, -0.009663608153632236, 0.0006671280292183803, -0.029974139072809033, -0.0012918717998946553, -0.007791919817953516, -0.023599548823250615, -0.010002682221969079, 0.006717055263469599, -0.018133676108259437, 0.012728836688315988, -0.026637651655984845, 0.002744803735683181, -0.0030228445089722964, 0.00876167157889108, -0.017157143387495792, -0.02327403667456594, 0.0024871074716868585, 0.013969847331393987, -0.01368502559827879, -0.0076698532278580605, -0.03567058304833896, -0.016831631238811116, 0.003756939522332201, -0.024521830140115213, 0.010802896948738221, -0.009182122753076496, -0.009650045302657473, -0.003967165575086207, 0.012254133178908928, 0.01430892139973083, -0.01007049647684289, 0.011982874296768491, -0.015841536598395302, -0.022080496475560905, -0.014593744064168624, 0.005486216991453321, 0.019123772611320443, -0.017699661151776663, -0.00986705278089886, -0.022134747879459953, -0.01462086976611815, -0.005418401805256914, 0.0008519233289410715, -0.0335276358305198, -0.011921841001720763, 0.010443478138277937, -0.0015919523224330835, -0.0030058907124231944, 0.034965307347070554, 0.0007523203562917213, 0.013996973033343511, 0.014349609952655117, 0.0063745907152197145, -0.011596329784358683, 0.01181333726260007, 0.007398593880056327, 0.008639604988795624, -0.005231911440200689, -0.01516338753039902, 0.04597843174554667, -0.0025159288792542017, -0.0009867052082406912, 0.02735648741426022, -0.017075764419002028, 0.005428574176318634, -0.014525928877972218, 0.024196317991430537, 0.010436697178451854, 0.013942721629444463, 0.012125284697664792, 0.02488802991040158, -0.0026057833490386235, 0.02241957054389775, -0.004367272938470778, 0.02479308902225565, 0.029811382998466692, 0.00789364166592553, 0.012586425356097091, -0.009344878827418834, 0.014851440095334298, -0.02100902286665133, -0.016031416512041975, -0.02650202128359203, 0.03393452322240786, 0.027492117786653034, -0.001423263024658247, -0.0187846985429836, 0.014553054579921742, -0.010219689700210467, 0.0195306600032085, 0.03165594563219589, -0.016736690350665183, 0.006659412913996211, -0.017591158343978567, 0.013779966486424721, -0.012464358766001635, -0.00183947633178301, 0.020168120518280496, -0.01745552797158575, -0.008402252768430795, 0.017401276567686703, 0.018689757654837668, 0.03868156017912366, 0.017306335679540773, 0.022094060257858265, 0.01110128153282818, 0.02472527383605924, -0.010043370774893366, 0.01772678685372619, 0.05069834113766776, 0.008965116206157704, 0.027587058674798964, -0.0030448842582216093, 0.0438083569631328, 0.021727860487571898, -0.001658919422989932, 0.020018926363590324, 0.010646922765544561, -0.022338193438049176, 0.009005804759081991, 0.021700734785622372, 0.018906765133079057, 0.0013537528313359681, -0.01406478821953992, 0.007222275420400524, -0.0036586081542732277, -0.004889446426289506, -0.001140136182253596, 0.009975556520019555, 0.042994578454066304, -0.03751514568206815, 0.001241858379471584, 0.03982084711158445, 0.004170609736691534, 0.007493534768202258, 0.002741413022939491, 0.01330526297701766, -0.01883894994688265, -0.014607306915143387, 0.00021404044451958675, 0.0054760446203916, 0.005120016755505655, 0.000919738165891505, 0.010090841218966331, 0.01877113476068624, -0.0004340146945482942, -0.0183235578845513, 0.02064282309636496, -0.002744803735683181, 0.003463640658111803, 0.016940135909254406, 0.0021259938869313513, 0.0035772303499327076, 0.01297975175965558, -0.024250569395329585, -0.012525392061049363, -0.017333461381490296, 0.01509557327552521, 0.01236263691802962, -0.007649508951395917, -0.010524856175449106, -0.020751327766808252, -0.003153387997342303, -0.009928086075946588, 0.013176414495773526, 0.02643420609739562, -0.012071033293765744, -8.556319719361875e-05, 0.014254669995831781, -0.010511293324474343, 0.00018670260474484826, 0.01893389083502858, 0.005214957643651587, -0.03746089055287872, 0.00819880814116417, 0.003219507245090242, -0.009568667265486304, -0.025050784122098727, -0.02644776987969298, 0.023151970084470484, 0.02926886523418582, -0.014051225368565156, -0.027654873860995372, 0.006818777577102912, -0.010185782107112263, 0.004784333632743152, -0.00028778904332339423, -0.00913465230900353, 0.0042757225302378875, -0.013610429452256299, -0.013325606787818505, -0.009121089458028768, -0.0063237293255724095, 0.04030911347196627, 0.01401053681564087, -0.014376736585927238, -0.027234420824164763, -0.01110806342397686, 0.002363345641634882, 0.02191774226386376, 0.0256611189352212, -0.017998045735866625, 0.004658876562734655, -0.014837877244359537, -0.009928086075946588, -0.011203004312122792, -0.049694680852309395, 0.03463979519838588, -0.006405107362743578, 0.011874370557647798, 0.0017665754257170407, 0.03596896763242892, 0.0051912224216151045, -0.0013503621185922776, 0.026583398389440602, 0.023029903494375028, -0.009283845532371106, -0.010077278367991568, 0.000550995186424383, 0.008103868184340834, -0.034314286774991584, 0.037108254564889705, 0.03564345548374424, 0.013691806558104872, 0.01897457845663027, 0.03203570918477962, 0.02433194836382335, -0.01973410556179772, -0.029865634402365743, -0.013834217890323769, 0.005025076333021022, 0.0037365952458700575, 0.022595888537892253, -0.012850903278411444, -0.0009629700444118707, -0.016709564648715657, 0.01367824370713011, 0.019218713499466373, 0.007235838737036584, 0.003973947000573588, 0.025281355382637472, 0.005686270673145606, -0.003107613026056507, 0.02186348899731952, -0.003885787770745687, -0.012186318924035117, 0.00845650510365244, -0.01877113476068624, -0.03312074471334136, 0.027220858904512597, -0.00343820996328815, -0.011833681073400914, 0.009948429886747434, 0.007276527289960871, 0.0038722246869402756, 0.020764889686460418, -0.018906765133079057, -0.01022647066003655, -0.027329361712310696, -0.02327403667456594, -0.010979214942732725, 0.01908308312707356, -0.009731423339828642, -0.0006980685449390368, -0.012308385514130573, -0.0009392348805830502, -0.009595792967435828, -0.013956284480419225, 0.007547786637762605, -0.02791256896083845, -0.012206662734835961, -0.00546587224932988, -0.002085304868345767, 0.0006213530579325845, 0.005221739069138968, 0.01806586092206303, 0.010334974399157242, -0.0015020977362333369, 0.02114465323904414, -0.028183827842978886, -0.01635692866072665, 0.0042926763267869894, -0.021822801375717828, -0.00845650510365244, -0.0066763662448840145, -0.022121185959807787, -0.018092986624012555, -0.00750709761917702, 0.013183196386922204, -0.005537077915439328, 0.006381372140707096, 0.01304756601452939, 0.013691806558104872, 0.001587713873295808, 0.023029903494375028, 0.02056144599051639, 0.0001672058463975564, 0.010918181647684997, -0.015963603188490758, 0.00735790532713204, -0.04782299437927587, -0.01345445526906264, -0.01822861699640537, -0.00010823877056599384, 0.0030109768979540547, -0.01590934992194652, 0.018201491294455845, -0.011691270672504615, -0.014349609952655117, 0.013135725942849239, -0.006303385049110266, 0.026379954693496573, 0.0018869466594406512, 0.001881860473909791, 0.015204077014645904, -0.009968774628870875, 0.01806586092206303, 0.005804946317666723, 0.006839121853565055, -0.005876151983776171, -0.03339200545812699, 0.020358000431927165, 0.01854056536279269, 0.0006128762178656958, 0.004411352436969404, -0.008897301019961298, -0.03287661153315045, 0.015068447573575686, -0.008029272038318346, -0.006750962856567803, 0.02727511030841165, -0.017591158343978567, -0.01928652682301759, -0.012755962390265512, -0.01478362490913789, -0.00624913317954992, -0.0018326947898803043, -0.008117431035315597, -0.018893201350781697, -0.010680830358642765, 0.0007569826154181268, -0.0070798645538429255, -0.0008286120333090434, 0.009290626492197189, -0.03255109938446577, 0.0025701807488145486, 0.0032161165323465516, -0.009182122753076496, 0.03765077232917058, -0.005564203617388852, -0.0030804870912763335, 0.012491485399273757, -0.012932281315582614, -0.0031635601355733747, -0.013420547675964437, -0.006998486516671756, -0.02358598504095326, 0.010504511433325665, 0.027044539047872903, 0.01639761628232834, -0.01360364756110762, 0.007385031029081565, 0.004438478138918928, 0.011460700343288464, 0.008788797280840603, -0.007323997734033837, 0.020344438512275, -0.00026066310854322086, 0.01360364756110762, 0.01978835696569677, 0.033690390042216946, 0.020358000431927165, -0.013807092188374245, 0.0020446160825908313, 0.011297944268946127, -0.023341851860762347, -0.02553905048248055, -0.01741483848733887, -0.008266623327360577, -0.010450260029426615, -0.021131089456746785, 0.00790042355707421, -0.013773184595276041, -0.023992874295486508, 0.0045029023795409955, 0.025457673376631976, 0.012328729324931417, 0.016411180064625698, 0.010443478138277937, 0.019666290375601313, -0.005584548359512294, 0.013664680856155348, -0.010341756290305922, 0.0036586081542732277, -0.005604892635974437, -0.00383153590118534, -0.03984797467617917, -0.017482653673535277, 0.0239250591092901, -0.002337914946811229, 0.005577766934024913, 0.0197069798598482, 0.01711645390324891, 0.0021327753124187328, 0.031520315259803075, -0.016126357400187905, -0.003512806342141289, -0.015814409033800585, -0.0065203925273516535, -0.02468458435181236, -0.02563399137062648, 0.005828681539703205, -0.006306775994684606, 0.007134116423403272, -0.011677707821529852, 0.00766307180237068, 0.012749181430439429, 0.006767916653116905, 0.00695779796374747, 0.001501249999839752, 0.011148751976901147, 0.022243252549903243, 0.0009154997167542296, 0.014213980511584899, 0.03558920407984519, 0.009107526607054005, -0.03187295497308247, -0.009426255933267408, 0.006340683122121511, -0.0015987337479204645, 0.010613015172446357, 0.03992934991938255, -0.02610869581135614, -0.023558859339003733, 0.04220792750959452, -0.004004463648097452, -0.03925120178270886, -0.02407425140133508, 0.011976092405619813, -0.004916572593900328, 0.02262301610248697, -0.003956993204024486, 0.010219689700210467, 0.0006616180919060521, 0.019978238741988633, -0.022704393208335543, 0.006544127749388136, -0.006923890370649266, 0.005560813137475811, 0.0003183056908472582, 0.037840654105462446, -0.013562959008183334, 0.03640298258891169, 0.003468726610812014, -0.016682438946766135, -0.01547533589678634, -0.003984119371635309, -0.010382444843230209, 0.024155630369828845, -0.004892837371863846, 0.009799237594702453, -0.030977797495522204, 0.025728932258772413, 0.011060592979903893, 0.027654873860995372, -0.024562517761716904, 0.019896859773494868, -0.005126798646654335, 0.023355415643059704, -0.012911936573459171, -0.0005361607308592435, 0.008619260246672183, 0.006106722312992321, -0.005859198187227069, -0.006849294224626776, -0.009609356749733186, -0.01110806342397686, -0.019205149717169016, 0.0012655936015080668, 0.0030652287675144016, 0.024671022432160194, -0.02533560678653652, 0.0063271202711467495, 0.008788797280840603, -0.005899887205812654, 0.006540736803813797, -0.011616674526482124, 0.0025854390725764806, 0.04239780928588638, -0.022026245071661857, -0.012661022433442177, -0.019856172151893177, 0.012755962390265512, -0.007249401588011347, 0.00579138346669196, 0.010117966920915855, 0.027125918016366667, -0.001110467271123317, 0.0022582326152578787, -0.01772678685372619, -0.0058015558377536814, -0.011575985042235242, 0.045137525671885455, -0.006049079497857634, -0.006998486516671756, 0.02815670214102936, -0.024765963320306124, -0.0165874980586202, -0.006784869984004708, 0.0420722971372017, 0.008090305333366073, 0.00039650462923099066, -0.002519319591997892, 0.008849830575888331, 0.01973410556179772, -0.0016258596827006379, -0.021185340860645833, -0.02056144599051639, 0.012559299654147567, -0.03290373909774516, 0.005428574176318634, 0.016790943617209425, -0.0187846985429836, -0.007866515963976006, 0.0028041417907743883, 0.014675121170017198, 0.010294285846232955, -0.005808337263241062, -0.015027758089328803, 0.012145629439788233, -0.0057540853936807156, -0.026881784836175756, -0.033907395657813144, -0.004560544729014384, -0.013942721629444463, 0.004960652092398955, 0.011596329784358683, 0.008890519128812618, -0.005482826045878982, -0.006601770098861525, -0.0053980575287947705, 0.005042030129570124, 0.0048724930954017025, -0.02331472615881282, -0.04155690693751555, -0.015665216741755604, -0.009989119370994316, -0.016139921182485265, -0.009900960373997065, -0.032388345172768625, 0.009107526607054005, 0.0012706796706236027, -0.03040815402929181, -0.015543151082982747, -0.017333461381490296, -0.047063467274108414, 0.00665263148850883, -0.01634336487842929, -9.700694001506772e-05, 0.023436792748908277, 0.015855098518047468, -0.00819880814116417, 0.012532173952198043, 0.00876167157889108, 0.016302677256827602, -0.0004149417607420481, 0.006523783007264695, -0.013596866601281538, -0.0183235578845513, 0.02423700747567742, 0.0007925853902651889, -0.030516656837089904, 0.010145093554187976, 0.008965116206157704, 0.009982337479845638, 0.016384054362676176, 0.028183827842978886, -0.017699661151776663, -0.02807532503518079, -0.009277063641222426, 0.0017767475639481123, 0.032822360129251396, 0.002865175085822116, 0.003183904644866167, -0.027885443258888927, 0.0008226782277999227, 0.00868029354171991, -0.0033314016969546263, -0.017387712785389343, -0.021782111891470946, 0.011297944268946127, -0.0018038734987282858, -0.002437941787657372, -0.0214430378231341, -0.015285454120494476, 0.025403421972732928, -0.016126357400187905, 0.009968774628870875, -0.010836803610513828, 0.009473726377340373, 0.007073083128355544, 0.02024949762412907, 0.008822704873938807, -8.407974581633857e-05, 0.000645088221761405, -0.0013308653456930702, 0.0034958525455921876, 0.0057710391902298175, -0.031683073196790604, -0.017279209977591248, -0.03306649330944231, 0.0037230321620646462, -0.01934078008956183, -0.0006789956402366218, -0.021063274270550377, 0.011731959225428901, -0.006598379618948483, 0.01660106184091756, 0.04700921587020937, -0.01634336487842929, 0.0023599549288911914, -0.005503170322341124, -0.0028753472240531878, -0.0087548896877424, -0.025254229680687947, 0.0016385749136971397, -0.01873044527643936, -0.01337985912304015, 0.026312139507300165, -0.004401180065907683, 0.00563201880358526, -0.012315166473956656, 0.014905691499233346, 0.017184269089445318, 0.0036077469974565715, 0.21028011044280515, -0.008002145405046224, -0.008958334315009026, 0.03618597324802511, 0.01711645390324891, 0.033229247521139454, 0.005143751977542139, 0.013793529337399482, 0.009704296706556523, 0.02351816985475685, -0.0016767207231019696, -0.0018869466594406512, -0.015136261828449496, -0.007934331150172414, -0.011521733638336192, -0.013244229681969932, -0.04117714338493182, -0.02104971235089821, -0.017862417226119004, 0.0057642572990811375, 0.010497730473499582, 0.014173291958660612, 0.008788797280840603, -0.013793529337399482, 0.020344438512275, 0.015760157629901538, 0.001283395018035429, -0.013488362862160843, 0.026949600022372164, -0.00034119317649015615, -0.01883894994688265, -0.013718933191376993, 0.008531101249674931, 0.017347025163787656, 0.013345951529941946, -0.005686270673145606, 0.017130017685546266, -0.03328350265032889, 0.03439566201819497, 0.006313557420171987, 0.01752334315778216, 0.018296432182601775, 0.028183827842978886, -0.02674615446378294, 0.0046453132460985945, -0.005252255716662832, -0.008273405218509257, -0.020113867251736254, 0.024820214724205175, 0.013495143821986926, -0.02372161541334607, -0.019978238741988633, 0.022433134326195106, 0.022080496475560905, -0.001151156173293577, -0.00017833171717524218, -0.017998045735866625, 0.015448210194836815, -0.008361564215506509, 0.006144020386003565, -0.004340146770859955, 0.009188904644225174, -0.003641654357724126, 0.01095887113193188, -0.012281258880858452, 0.0029923278614484325, 0.008388689917456033, -0.012627114840343973, 0.031981457780880566, -0.01765897166752978, 0.024196317991430537, -0.01962560089135443, -0.010802896948738221, 0.02448114065586833, -0.02534917056883388, -0.029675754488719074, 0.003400911890276905, 0.02510503738864297, 0.026366392773844408, 0.02937736804198392, -0.0044215243423698265, 0.02902473205399491, -0.027804066153040354, -0.0010121357866490195, -0.017550468859731685, -0.027030977128220737, 0.02275864461223459, 0.010999559684856166, -0.0008387842297477773, -0.01650612095277163, -0.004153655940142432, -0.015339706455716121, -0.012321948365105334, -0.03249684798056672, -0.015963603188490758, 0.03982084711158445, 0.00712055357242851, 0.010504511433325665, -0.002797360132456358, 0.0017089328434130033, -0.02422344369338006, 0.04383548452772752, 0.018350683586500827, 0.007791919817953516, -0.00500812253647192, 0.004750426505306247, 0.005760866819168096, 0.015448210194836815, -0.0013342560584367607, -0.00758169376519951, 0.022134747879459953, -0.004991168739922819, 0.017401276567686703, -0.00986027088975018, 0.018961016536978105, -0.007920768299197651, 0.017916668630018052, -0.017441964189288395, 0.013339169638793266, 0.007513879044664402, 0.042777572838470106, -0.03255109938446577, -0.009005804759081991, -0.004550372823613961, 0.008592134544722659, 0.0074460643241292925, 0.005364150401357865, -0.003763720947819582, -0.008395471808604713, -0.02705810283017026, 0.029106109159843484, -0.017062202499349862, 0.022840021718083164, -0.018920327052731223, -0.022175437363706838, 0.016411180064625698, 0.00844972321250376, 0.013034003163554627, -0.0065475182293011774, 0.004387617214932921, -0.0005768495748218413, 0.009785674743727692, -0.014607306915143387, 0.017943794331967574, 0.00547943556596594, -0.024114940885581963, 0.013461236228888722, -0.013088255498776272, -0.026569836469788437, -0.005275990938699315, -0.013257792532944694, -0.022473821947796797, -0.008815922982790127, -0.0016953698760229167, 0.02586456263116523, 0.022392444841948224, -0.04939629626821944, -0.01689944642500752, 0.02255520091629056, 0.02418275607177837, -0.043428593410549075, -0.010884274054586793, 0.04749748223059119, -0.009785674743727692, -0.013807092188374245, -0.020222371922179544, -0.17403988951617136, 0.011250474756195757, 0.0017869198185945085, -0.009188904644225174, 0.036267352216518875, -0.004584279951050867, 0.0093923492714918, 0.022324629655751816, -0.01639761628232834, -0.032822360129251396, 0.0019920596858176544, 0.003790846882599755, -0.019598475189404906, 0.011684488781355935, 0.0025752667015147596, -0.022406008624245584, -0.038220417658046166, 0.02403356377973339, 0.01775391255567571, 0.0001337222961191321, 0.027030977128220737, -0.0351280615587677, 0.008375127066481271, -0.011053811088755215, 0.018581252984394378, 0.009582230116461067, -0.01407835107051468, 0.020086741549786732, -0.012661022433442177, -0.024359074065772875, -0.01609923169823838, 0.006466140657791307, 0.0010189173285517251, -0.009426255933267408, 0.010050152666042044, -0.0032618915036323475, -0.008212371923461529, 0.02191774226386376, -0.006205053681051294, 0.026583398389440602, -0.0035636674989579452, 0.04369985415533471, 0.0048691021498273625, 0.010579107579348154, -0.007337560585008599, 0.018988142238927627, 0.0175097793754848, -0.006618723895410627, 0.014051225368565156, -0.0030058907124231944, 0.018011609518163982, -0.01282377757646192, 0.010524856175449106, -0.003094049942251096, -0.004241815402800982, 0.009507633970438576, 0.008137774846116443, 0.011982874296768491, 0.01478362490913789, -0.00017356349099963844, -0.006991705091184375, -0.016085669778586213, 0.009487289228315135, 0.017903104847720692, -0.008402252768430795, 0.00044884917921726486, -0.0050013411109845396, 0.013393421974014913, -0.021429474040836744, 0.014702246871966721, -0.0040858412196073226, -0.013406984824989674, -0.005499779842428083, -0.03721675737268781, 0.02110396375479726, -0.02327403667456594, -0.023504607935104685, 0.0021259938869313513, 0.014892128648258585, -0.010735081762541813, 0.025769621743019295, 0.00547943556596594, 0.0024871074716868585, -0.02090052005885323, -0.015136261828449496, -0.003506024916653908, 0.027546369190552082, -0.0076562903768832985, 0.009460163526365611, -0.00080148609852887, 0.035616327919149524, -0.03743376671357439, 0.022256814469555408, -0.01024681540215999, 0.009744986190803405, 0.017252084275641722, 0.003980728426060969, 0.005994827628297287, 0.018133676108259437, -0.006934062741710986, 0.02069707450026401, -0.018038735220113507, -0.03748801811747343, 0.021022586648948686, 0.015556713933957508, -0.004679220839196798, 0.017713224934074023, 0.011040248237780452, 0.019896859773494868, -0.013400202933840994, -0.03550782511135142, 0.016614623760569727, 0.008008927296194904, 0.033446256862026034, -0.0029075593443642217, 0.04291320321086292, 0.0192458392014159, -0.0037738933188813024, -0.0007527442244885137, 0.015638091039806082, 0.040010728887876316, -0.01345445526906264, 0.004197735904302356, -0.020995460946999164, -0.009785674743727692, 0.01887963943112953, -0.1002031364883949, -0.02090052005885323, 0.03309362087403703, -0.0014647995468067673, 0.00422825255182622, 0.007568130914224748, 0.02336897756271187, 0.011867588666499118, -0.03143894001659969, 0.021470163525083626, -0.03366326247762223, -0.03567058304833896, -0.003543322989665153, -0.007093427404817687, 0.008802360131815366, 0.007486753342714877, -0.007106990255792449, -0.004174000682265874, -0.010219689700210467, 0.01980192074799413, -0.005469263194904219, -0.005865979612714451, 0.012633895800170056, -0.005181050050553383, -0.04030911347196627, 0.005710005429520791, -0.024589643463666426, 0.006700101466920497, 0.008768452538717162, -0.003105917553269337, 0.013630773263057144, -0.00842937847038032, 0.02407425140133508, -0.019408593413113046, 0.009080400905104482, -0.012769525241240275, -0.007608819932810333, -0.020859830574606348, 0.011358977563993854, -0.006479703508766069, 0.014973506685429754, -0.01601785459238981, -0.007934331150172414, -0.030272523656898993, 0.002465067722437545, -0.006839121853565055, -0.009121089458028768, 0.005259037142150213, -0.018472750176596282, -0.019964674959691276, -0.012837340427436682, -0.017699661151776663, -0.001188454246304822, -0.026664777357934367, 0.00962291960070795, 0.008883738168986535, -0.02737005119655758, 0.0035568858406399154, -0.03141181245200498, -0.01532614360474136, -0.015977165108142923, -0.0048555392988526005, -0.013651118005180585, 0.03298511434094854, 0.014227543362559662, -0.00672722763453132, -0.007690197504320204, -0.0029228176681261537, 0.01830999410225394, -0.011826900113574831, -0.0023277428085801575, 0.019978238741988633, -0.015502461598735863, -0.028102450737130313, -0.04801287243027735, 0.0005959224795242563, -0.02235175535770134, -0.043238711634257215, 0.02696316194202433, -0.006208444160964334, -0.008863393426863094, -0.023572423121301093, 0.0066797571904583545, -0.018486312096248448, 0.003963774629511867, -0.00023057030011231823, -0.007066301702868163, -0.005530296489951947, 0.022989215872773337, -0.029512998414376733, 0.008863393426863094, -0.013942721629444463, 0.007323997734033837, -0.0032941036239433814, -0.002241279051539426, -0.03073366431533129, -0.01180655537145139, -0.012871248020534886, 0.01430892139973083, 0.04527315604427827, 0.013108599309577118, 0.0019191586633363605, -0.049667553287714675, 0.00936522263821968, -0.003153387997342303, -0.0074460643241292925, -0.0026447768948370384, 0.008944771464034263, -0.0009383872023971275, -0.008632823097646944, -0.0028787379367968785, -0.008253060476385816, -0.018106550406309915, 0.02534917056883388, -0.010429915287303174, -0.004201126384215398, -0.019123772611320443, -0.017238520493344366, 0.03013689514715137, 0.0061372389605161845, 0.04071600086385433, 0.014892128648258585, 0.011447137492313703, -0.0027804065687379053, 0.010619797063595037, 0.03398877462630691, 0.007968238743270618, 0.03203570918477962, -0.003617919368518292, 0.013522269523936451, 0.0007629164209272476, -0.007235838737036584, 0.0013656204423542096, -0.005279381884273655, -0.017265646195293888, 0.019272964903365424, -0.01103346727795437, -0.02199911936971233, 0.013291699194720301, 0.022500949512391514, 0.03564345548374424, 0.03141181245200498, -0.031791576004588706, -0.010490948582350902, 0.010985996833881405, -0.025430547674682454, 0.0017309725926623165, -0.000778598612885972, -0.013942721629444463, -0.014200417660610136, 0.0035263691931160515, 0.006611942469923245, -0.002129384599675042, 0.008775234429865842, -0.01962560089135443, -0.012884810871509647, -0.0042960672723613294, -0.03911557141031605, -0.013400202933840994, 0.008619260246672183, -0.00625930555061164, -0.009629700560534032, 0.03499243491166527, -0.01877113476068624, -0.0042757225302378875, 0.0015682171003966005, -0.015678780524052964, -0.003763720947819582, -0.00914143420015221, 0.002468458435181236, 0.04185529152160551, -0.041909542925504556, -0.02418275607177837, 0.009202467495199937, -0.009351659787244917, 0.00010145728687095048, 0.0003556038220661655, 0.007676634653345442, -0.0035704489244453267, -0.0021565105344552153, 0.0004653790202580808, 0.045164653236480175, 0.00234639184508578, -0.012464358766001635, -0.01807942470436039, 0.012966188908680816, 0.023043467276672384, -0.007323997734033837, 0.012396544511127825, 0.0010960565673396453, -0.022894274984627407, 0.010972433982906642, -0.04497477146018831, 0.0190695193447762, -0.0025956112108075522, -0.008266623327360577, -0.024548955842064738, -0.0002339610419598399, 0.022934962606229094, 0.005876151983776171, 0.012220225585810724, 0.003573839637189017, 0.007073083128355544, 0.006835731373652013, 0.004964043037973294, -0.010375663883404126, -0.027885443258888927, -0.011155533868049825, 0.004411352436969404, -0.016302677256827602, 0.006991705091184375, 0.016180610666732147, -0.000746810418979393, -0.0022616233280015694, 0.013881688334396736, 0.0048216317057543975, -0.013298481085868981, 0.005167487199578621, 0.007154460699865415, -0.04074312842844905, -0.0416111583414146, -0.007113771681279831, 0.012491485399273757, 0.028970480650095862, 0.009989119370994316, 0.018052299002410864, 0.01830999410225394, -0.004404571011482023, -0.02336897756271187, -0.011514951747187514, 0.004221471126338839, 0.0010587584943284004, 0.004594452322112587, 0.015746595710249372, -0.0005628627974426244, -0.018432060692349397, -0.00986027088975018, -0.005486216991453321, -0.010463822880401378, -0.009297408383345869, 0.006001609053784668, 0.11620743102377774, 0.022229688767605886, 0.004204517329789738, 0.0086124792868461, -0.007642727060247238, -0.015624528188831319, 0.006734009060018701, 0.014444550840801047, -0.00680182378055381, -0.009222812237323378, 0.028861975979652572, 0.009819582336825896, 0.00969751574673044, 0.0007374859007265817, 0.012993314610630342, 0.009405912122466562, -0.028210953544928412, 0.01742840226963623, -0.04011923169567441, -0.013854562632447212, 0.026556272687491077, 0.015773721412198898, -0.01812011232596208, -0.004862320724339982, 0.001007897337511744, -0.0035874024881637793, -0.008693856392694672, 0.01024681540215999, -0.025281355382637472, -0.007249401588011347, -0.014430987989826286, 0.0001549144253901848, -0.019666290375601313, -0.006313557420171987, 0.004903009742925566, -0.045815673808559144, -0.01509557327552521, -0.01745552797158575, 0.0005696442811376678, 0.008334438513556985, 0.005435355601806016, 0.02423700747567742, -0.03897994476321362, -0.013318825827992422, -0.025728932258772413, 0.017903104847720692, 0.005052202034970547, 0.0041061859617307645, -0.01611279548053574]\n"
     ]
    }
   ],
   "source": [
    "query = transform_sentence(query)\n",
    "print(query)\n",
    "\n",
    "query_vec =  OpenAIEmbeddings(\n",
    "            openai_api_base=\"https://proxy.dta.totvs.ai/\",\n",
    "            openai_api_key=\"sk-axyZ_tPhqNPbbywhdhhhKQ\",\n",
    "            model=\"text-embedding-ada-002\"\n",
    "        ).embed_query(query)\n",
    "print(query_vec)"
   ]
  },
  {
   "cell_type": "code",
   "execution_count": 127,
   "id": "19e270cc-2422-4071-bdfe-840cdd97dcfc",
   "metadata": {},
   "outputs": [],
   "source": [
    "input_documents = []\n",
    "links = []\n",
    "for i, result in documents_df.iterrows():\n",
    "    url = result.get(\"html_url\", \"\")\n",
    "    solution = result.get(\"sanitized_solution\", \"\")\n",
    "    input_documents.extend(generate_chain_docs(query, solution))\n",
    "    links.append(url)"
   ]
  },
  {
   "cell_type": "code",
   "execution_count": 128,
   "id": "f02afa69-1092-4ea1-bcf0-673977b68838",
   "metadata": {},
   "outputs": [
    {
     "data": {
      "text/plain": [
       "[Document(page_content='Quando o módulo de Agroindústria estiver marcado no programa CD0101 - Cadastros Gerais Parâmetro Global, duas situações ocorrem no programa CD0204 - Implantação Item:É habilitado o campo Classificação Item na aba Complementos;É realizado uma validação referente ao tamanho do código do item.Esta validação é para que não gere a mensagem 17006 - Código do Item com formato inválido, quando utilizado um código com letras e/ou mais de 8 caracteres para Classificação Item do tipo Produto e Insumo.Porém a validação do tamanho do código não agrega valor para alguns clientes, sendo assim, foi criada a função desabilita-checkitem-agro, que permitirá definir se a validação citada acima deve ser realizada ou não.Se a função desabilita-checkitem-agro estiver criada via programa CD7070 - Função Liberação Especial, o programa CD0204 não irá executar a validação mesmo que o módulo de Agroindústria esteja implantado.Nesse caso, o campo Classificação Item aparecerá na tela do CD0204, porém a validação do tamanho do código do item não será realizada.ImportanteA validação acima citada, acontece quando a Classificação do Item é Produto ou Insumo. Isto porque as 3 classificações seguem a seguinte regra:Produto: Define que o item é produzido ou fabricado. É validado que o código do item seja cadastrado com o formato numérico de 4 posições.Insumo: Define que o item é de matéria-prima ou elemento essencial para a produção do item. É validado que o formato do código do item seja numérico de 8 posições.Genérico: Define que é um item não específico. Permite gravar as 16 posições do item.'),\n",
       " Document(page_content='Na cópia de um item no programa de CD0204, por padrão a informação da Narrativa é gravada com as características técnicas do item, substituindo a narrativa digitada.Para que seja preservada a narrativa digitada, é necessário marcar o parâmetro Copia Narrativa? após salvar o registro do item. Com isso, o item é cadastrado com a característica que foi digitada e com as características técnicas do item que estiverem cadastradas para Gravar Narrativa.'),\n",
       " Document(page_content='A inclusão e atualização de itens poderá ser realizada utilizando os programas padrão do Sistema, conforme documentação disponível nos links:Cadastro manual: CD0204 - Implantação Item;Importação via arquivo texto: CD0209 - Importação Itens;Havendo a necessidade de customização, estão disponíveis as seguintes rotinas:API para cadastro e alteração: CDAPI344 - API para gravação de itens;API para cadastro e alteração: CDAPIITEM - Implantação de item;BO para cadastro e alteração: BOIN172 - BO de itens.ImportanteAs includes utilizadas pelas APIs estão disponíveis na pasta Fontes do diretório de programas do produto. Exemplo: ...servidor\\\\\\\\...\\\\\\\\ERP\\\\\\\\ems2\\\\\\\\Fontes\\\\\\\\cdp.O programa BOIN172 não possui documentação liberada e quando da necessidade do uso da mesma, as informações devem ser solicitadas através do canal de Consultoria Técnica Telefônica.Saiba maisListagem dos programas a nível de item e item x estabelecimento para atualização de parâmetros do item: Manufatura - Linha Datasul - MEN - Fluxo de cadastro de um novo itemPrograma para alteração do código do item: Manufatura - Linha Datasul - MEN - Alteração do código, unidade de medida e grupo de estoque do item')]"
      ]
     },
     "execution_count": 128,
     "metadata": {},
     "output_type": "execute_result"
    }
   ],
   "source": [
    "input_documents"
   ]
  },
  {
   "cell_type": "code",
   "execution_count": 129,
   "id": "085d4ed9-2719-4910-93fc-71afd74da553",
   "metadata": {},
   "outputs": [
    {
     "data": {
      "text/plain": [
       "['https://centraldeatendimento.totvs.com/hc/pt-br/articles/360047494593-Manufatura-Linha-Datasul-MEN-Cadastro-de-itens-utilizando-letras-ou-mais-de-oito-caracteres-com-o-m%C3%B3dulo-de-Agroind%C3%BAstria-habilitado',\n",
       " 'https://centraldeatendimento.totvs.com/hc/pt-br/articles/8139941336087-Manufatura-Linha-Datasul-MEN-C%C3%B3pia-da-Narrativa-do-Item',\n",
       " 'https://centraldeatendimento.totvs.com/hc/pt-br/articles/20829443966359-Manufatura-Linha-Datasul-MEN-Programas-para-cadastro-e-altera%C3%A7%C3%A3o-de-itens']"
      ]
     },
     "execution_count": 129,
     "metadata": {},
     "output_type": "execute_result"
    }
   ],
   "source": [
    "links"
   ]
  },
  {
   "cell_type": "code",
   "execution_count": 130,
   "id": "d5b9d686-67f1-4c3b-aef1-2bfc855212a6",
   "metadata": {},
   "outputs": [
    {
     "data": {
      "text/plain": [
       "{'query': 'como realizar o cadastro do item?',\n",
       " 'input_documents': [Document(page_content='Quando o módulo de Agroindústria estiver marcado no programa CD0101 - Cadastros Gerais Parâmetro Global, duas situações ocorrem no programa CD0204 - Implantação Item:É habilitado o campo Classificação Item na aba Complementos;É realizado uma validação referente ao tamanho do código do item.Esta validação é para que não gere a mensagem 17006 - Código do Item com formato inválido, quando utilizado um código com letras e/ou mais de 8 caracteres para Classificação Item do tipo Produto e Insumo.Porém a validação do tamanho do código não agrega valor para alguns clientes, sendo assim, foi criada a função desabilita-checkitem-agro, que permitirá definir se a validação citada acima deve ser realizada ou não.Se a função desabilita-checkitem-agro estiver criada via programa CD7070 - Função Liberação Especial, o programa CD0204 não irá executar a validação mesmo que o módulo de Agroindústria esteja implantado.Nesse caso, o campo Classificação Item aparecerá na tela do CD0204, porém a validação do tamanho do código do item não será realizada.ImportanteA validação acima citada, acontece quando a Classificação do Item é Produto ou Insumo. Isto porque as 3 classificações seguem a seguinte regra:Produto: Define que o item é produzido ou fabricado. É validado que o código do item seja cadastrado com o formato numérico de 4 posições.Insumo: Define que o item é de matéria-prima ou elemento essencial para a produção do item. É validado que o formato do código do item seja numérico de 8 posições.Genérico: Define que é um item não específico. Permite gravar as 16 posições do item.'),\n",
       "  Document(page_content='Na cópia de um item no programa de CD0204, por padrão a informação da Narrativa é gravada com as características técnicas do item, substituindo a narrativa digitada.Para que seja preservada a narrativa digitada, é necessário marcar o parâmetro Copia Narrativa? após salvar o registro do item. Com isso, o item é cadastrado com a característica que foi digitada e com as características técnicas do item que estiverem cadastradas para Gravar Narrativa.'),\n",
       "  Document(page_content='A inclusão e atualização de itens poderá ser realizada utilizando os programas padrão do Sistema, conforme documentação disponível nos links:Cadastro manual: CD0204 - Implantação Item;Importação via arquivo texto: CD0209 - Importação Itens;Havendo a necessidade de customização, estão disponíveis as seguintes rotinas:API para cadastro e alteração: CDAPI344 - API para gravação de itens;API para cadastro e alteração: CDAPIITEM - Implantação de item;BO para cadastro e alteração: BOIN172 - BO de itens.ImportanteAs includes utilizadas pelas APIs estão disponíveis na pasta Fontes do diretório de programas do produto. Exemplo: ...servidor\\\\\\\\...\\\\\\\\ERP\\\\\\\\ems2\\\\\\\\Fontes\\\\\\\\cdp.O programa BOIN172 não possui documentação liberada e quando da necessidade do uso da mesma, as informações devem ser solicitadas através do canal de Consultoria Técnica Telefônica.Saiba maisListagem dos programas a nível de item e item x estabelecimento para atualização de parâmetros do item: Manufatura - Linha Datasul - MEN - Fluxo de cadastro de um novo itemPrograma para alteração do código do item: Manufatura - Linha Datasul - MEN - Alteração do código, unidade de medida e grupo de estoque do item')],\n",
       " 'links': ['https://centraldeatendimento.totvs.com/hc/pt-br/articles/360047494593-Manufatura-Linha-Datasul-MEN-Cadastro-de-itens-utilizando-letras-ou-mais-de-oito-caracteres-com-o-m%C3%B3dulo-de-Agroind%C3%BAstria-habilitado',\n",
       "  'https://centraldeatendimento.totvs.com/hc/pt-br/articles/8139941336087-Manufatura-Linha-Datasul-MEN-C%C3%B3pia-da-Narrativa-do-Item',\n",
       "  'https://centraldeatendimento.totvs.com/hc/pt-br/articles/20829443966359-Manufatura-Linha-Datasul-MEN-Programas-para-cadastro-e-altera%C3%A7%C3%A3o-de-itens'],\n",
       " 'language': 'Brazilian Portuguese'}"
      ]
     },
     "execution_count": 130,
     "metadata": {},
     "output_type": "execute_result"
    }
   ],
   "source": [
    "context =  {\n",
    "    \"query\": query,\n",
    "    \"input_documents\": input_documents,\n",
    "    \"links\": links,\n",
    "    \"language\": \"Brazilian Portuguese\"\n",
    "}\n",
    "context"
   ]
  },
  {
   "cell_type": "code",
   "execution_count": 131,
   "id": "83d9a2c3-77fd-45ed-8ccc-c67414274cb2",
   "metadata": {},
   "outputs": [],
   "source": [
    "a = chain(context)"
   ]
  },
  {
   "cell_type": "code",
   "execution_count": 132,
   "id": "a21c3367-15d5-4b20-886f-80aa114442eb",
   "metadata": {},
   "outputs": [
    {
     "data": {
      "text/plain": [
       "'Para realizar o cadastro de um item, siga as instruções abaixo:\\n\\n1. Acesse o programa CD0204 - Implantação Item. Se o módulo de Agroindústria estiver marcado, o campo Classificação Item será habilitado na aba Complementos. Além disso, haverá uma validação do tamanho do código do item, que não deve ultrapassar 8 caracteres para itens classificados como Produto ou Insumo. Caso não deseje essa validação, é possível desabilitá-la criando a função desabilita-checkitem-agro via programa CD7070 - Função Liberação Especial. Para mais detalhes sobre o cadastro de itens com o módulo de Agroindústria, acesse o link: \\n https://centraldeatendimento.totvs.com/hc/pt-br/articles/360047494593-Manufatura-Linha-Datasul-MEN-Cadastro-de-itens-utilizando-letras-ou-mais-de-oito-caracteres-com-o-m%C3%B3dulo-de-Agroind%C3%BAstria-habilitado \\n\\n2. Ao copiar um item no programa CD0204, a Narrativa é gravada automaticamente com as características técnicas do item. Se desejar manter a narrativa original, marque o parâmetro \"Copia Narrativa?\" após salvar o registro do item. Para entender melhor o processo de cópia da narrativa do item, visite: \\n https://centraldeatendimento.totvs.com/hc/pt-br/articles/8139941336087-Manufatura-Linha-Datasul-MEN-C%C3%B3pia-da-Narrativa-do-Item \\n\\n3. Para inclusão e atualização de itens, utilize os programas padrão do Sistema. O cadastro manual pode ser feito pelo CD0204 - Implantação Item, e a importação via arquivo texto pelo CD0209 - Importação Itens. Existem também APIs e BOs para customização, como CDAPI344, CDAPIITEM e BOIN172. As includes das APIs estão disponíveis na pasta Fontes do diretório de programas do produto. Para mais informações sobre programas para cadastro e alteração de itens, acesse: \\n https://centraldeatendimento.totvs.com/hc/pt-br/articles/20829443966359-Manufatura-Linha-Datasul-MEN-Programas-para-cadastro-e-altera%C3%A7%C3%A3o-de-itens \\n\\nLembre-se de que, para o uso do programa BOIN172, que não possui documentação liberada, é necessário solicitar informações através do canal de Consultoria Técnica Telefônica.\\n\\nCaso tenha dúvidas ou precise de mais informações, não hesite em acessar os links fornecidos para cada etapa do processo.'"
      ]
     },
     "execution_count": 132,
     "metadata": {},
     "output_type": "execute_result"
    }
   ],
   "source": [
    "a.get('output_text')"
   ]
  },
  {
   "cell_type": "code",
   "execution_count": null,
   "id": "85379572-d464-47aa-87a9-58659ada70b6",
   "metadata": {},
   "outputs": [],
   "source": []
  },
  {
   "cell_type": "code",
   "execution_count": 8,
   "id": "bbc37c95-4c61-45e5-8804-a4f751464eff",
   "metadata": {},
   "outputs": [
    {
     "ename": "SyntaxError",
     "evalue": "invalid syntax (3017404267.py, line 14)",
     "output_type": "error",
     "traceback": [
      "\u001b[0;36m  Cell \u001b[0;32mIn[8], line 14\u001b[0;36m\u001b[0m\n\u001b[0;31m    summary =\u001b[0m\n\u001b[0m              ^\u001b[0m\n\u001b[0;31mSyntaxError\u001b[0m\u001b[0;31m:\u001b[0m invalid syntax\n"
     ]
    }
   ],
   "source": [
    "def find_similar_tickets(subject, summary, product, threshold=60, k=20):\n",
    "    query_vec = OpenAIEmbeddings(\n",
    "            openai_api_base=get_proxy_host(),\n",
    "            openai_api_key=get_proxy_secret_key()\n",
    "        ).embed_query(subject)\n",
    "    query_vec = np.array(query_vec)\n",
    "    select_statement = f'''SELECT {', '.join(EMBEDDINGS_SELECT_COLUMNS)} FROM\n",
    "                            (SELECT *, 1 - (sentence_embedding <-> %s) as score FROM public.{table_name}\n",
    "                            WHERE product = '{product}') as filtered_kb\n",
    "                            WHERE score > {threshold/100};'''\n",
    "    DatabaseService().run_select_stament(statement)\n",
    "    \n",
    "    #TODO: criar o resumo dos comentários\n",
    "    summary = \n",
    "    query_vec = OpenAIEmbeddings(\n",
    "            openai_api_base=get_proxy_host(),\n",
    "            openai_api_key=get_proxy_secret_key()\n",
    "        ).embed_query(summary)\n",
    "    query_vec = np.array(query_vec)\n",
    "    select_statement = f'''SELECT {', '.join(EMBEDDINGS_SELECT_COLUMNS)} FROM\n",
    "                            (SELECT *, 1 - (sentence_embedding <-> %s) as score FROM public.{table_name}\n",
    "                            WHERE product = '{product}') as filtered_kb\n",
    "                            WHERE score > {threshold/100};'''\n",
    "    DatabaseService().run_select_stament(statement)"
   ]
  },
  {
   "cell_type": "code",
   "execution_count": 9,
   "id": "8cc260a4-4871-44e4-9956-84844c115df2",
   "metadata": {},
   "outputs": [
    {
     "ename": "KeyError",
     "evalue": "'id'",
     "output_type": "error",
     "traceback": [
      "\u001b[0;31m---------------------------------------------------------------------------\u001b[0m",
      "\u001b[0;31mKeyError\u001b[0m                                  Traceback (most recent call last)",
      "File \u001b[0;32m/usr/local/anaconda3/lib/python3.10/site-packages/pandas/core/indexes/base.py:3361\u001b[0m, in \u001b[0;36mIndex.get_loc\u001b[0;34m(self, key, method, tolerance)\u001b[0m\n\u001b[1;32m   3360\u001b[0m \u001b[39mtry\u001b[39;00m:\n\u001b[0;32m-> 3361\u001b[0m     \u001b[39mreturn\u001b[39;00m \u001b[39mself\u001b[39;49m\u001b[39m.\u001b[39;49m_engine\u001b[39m.\u001b[39;49mget_loc(casted_key)\n\u001b[1;32m   3362\u001b[0m \u001b[39mexcept\u001b[39;00m \u001b[39mKeyError\u001b[39;00m \u001b[39mas\u001b[39;00m err:\n",
      "File \u001b[0;32m/usr/local/anaconda3/lib/python3.10/site-packages/pandas/_libs/index.pyx:76\u001b[0m, in \u001b[0;36mpandas._libs.index.IndexEngine.get_loc\u001b[0;34m()\u001b[0m\n",
      "File \u001b[0;32m/usr/local/anaconda3/lib/python3.10/site-packages/pandas/_libs/index.pyx:108\u001b[0m, in \u001b[0;36mpandas._libs.index.IndexEngine.get_loc\u001b[0;34m()\u001b[0m\n",
      "File \u001b[0;32mpandas/_libs/hashtable_class_helper.pxi:5198\u001b[0m, in \u001b[0;36mpandas._libs.hashtable.PyObjectHashTable.get_item\u001b[0;34m()\u001b[0m\n",
      "File \u001b[0;32mpandas/_libs/hashtable_class_helper.pxi:5206\u001b[0m, in \u001b[0;36mpandas._libs.hashtable.PyObjectHashTable.get_item\u001b[0;34m()\u001b[0m\n",
      "\u001b[0;31mKeyError\u001b[0m: 'id'",
      "\nThe above exception was the direct cause of the following exception:\n",
      "\u001b[0;31mKeyError\u001b[0m                                  Traceback (most recent call last)",
      "\u001b[1;32m/Users/rodrigomoraes/Library/CloudStorage/GoogleDrive-rg.moraes@totvs.com.br/My Drive/similarity-tickets/notebooks/tickets_similares_poc.ipynb Cell 25\u001b[0m line \u001b[0;36m4\n\u001b[1;32m      <a href='vscode-notebook-cell:/Users/rodrigomoraes/Library/CloudStorage/GoogleDrive-rg.moraes%40totvs.com.br/My%20Drive/similarity-tickets/notebooks/tickets_similares_poc.ipynb#X33sZmlsZQ%3D%3D?line=0'>1</a>\u001b[0m result_df \u001b[39m=\u001b[39m LoadData\u001b[39m.\u001b[39mrun_select_statement(select_statement)\n\u001b[1;32m      <a href='vscode-notebook-cell:/Users/rodrigomoraes/Library/CloudStorage/GoogleDrive-rg.moraes%40totvs.com.br/My%20Drive/similarity-tickets/notebooks/tickets_similares_poc.ipynb#X33sZmlsZQ%3D%3D?line=2'>3</a>\u001b[0m \u001b[39mfor\u001b[39;00m i, row \u001b[39min\u001b[39;00m result_df\u001b[39m.\u001b[39miterrows():\n\u001b[0;32m----> <a href='vscode-notebook-cell:/Users/rodrigomoraes/Library/CloudStorage/GoogleDrive-rg.moraes%40totvs.com.br/My%20Drive/similarity-tickets/notebooks/tickets_similares_poc.ipynb#X33sZmlsZQ%3D%3D?line=3'>4</a>\u001b[0m     ticket_id \u001b[39m=\u001b[39m row[\u001b[39m'\u001b[39;49m\u001b[39mid\u001b[39;49m\u001b[39m'\u001b[39;49m]\n\u001b[1;32m      <a href='vscode-notebook-cell:/Users/rodrigomoraes/Library/CloudStorage/GoogleDrive-rg.moraes%40totvs.com.br/My%20Drive/similarity-tickets/notebooks/tickets_similares_poc.ipynb#X33sZmlsZQ%3D%3D?line=4'>5</a>\u001b[0m     expected_ids \u001b[39m=\u001b[39m row[\u001b[39m'\u001b[39m\u001b[39mexpected_id\u001b[39m\u001b[39m'\u001b[39m]\n\u001b[1;32m      <a href='vscode-notebook-cell:/Users/rodrigomoraes/Library/CloudStorage/GoogleDrive-rg.moraes%40totvs.com.br/My%20Drive/similarity-tickets/notebooks/tickets_similares_poc.ipynb#X33sZmlsZQ%3D%3D?line=5'>6</a>\u001b[0m     expected_ids \u001b[39m=\u001b[39m [\u001b[39mint\u001b[39m(\u001b[39mid\u001b[39m\u001b[39m.\u001b[39mstrip()) \u001b[39mfor\u001b[39;00m \u001b[39mid\u001b[39m \u001b[39min\u001b[39;00m expected_ids\u001b[39m.\u001b[39msplit(\u001b[39m'\u001b[39m\u001b[39m,\u001b[39m\u001b[39m'\u001b[39m)]\n",
      "File \u001b[0;32m/usr/local/anaconda3/lib/python3.10/site-packages/pandas/core/series.py:942\u001b[0m, in \u001b[0;36mSeries.__getitem__\u001b[0;34m(self, key)\u001b[0m\n\u001b[1;32m    939\u001b[0m     \u001b[39mreturn\u001b[39;00m \u001b[39mself\u001b[39m\u001b[39m.\u001b[39m_values[key]\n\u001b[1;32m    941\u001b[0m \u001b[39melif\u001b[39;00m key_is_scalar:\n\u001b[0;32m--> 942\u001b[0m     \u001b[39mreturn\u001b[39;00m \u001b[39mself\u001b[39;49m\u001b[39m.\u001b[39;49m_get_value(key)\n\u001b[1;32m    944\u001b[0m \u001b[39mif\u001b[39;00m is_hashable(key):\n\u001b[1;32m    945\u001b[0m     \u001b[39m# Otherwise index.get_value will raise InvalidIndexError\u001b[39;00m\n\u001b[1;32m    946\u001b[0m     \u001b[39mtry\u001b[39;00m:\n\u001b[1;32m    947\u001b[0m         \u001b[39m# For labels that don't resolve as scalars like tuples and frozensets\u001b[39;00m\n",
      "File \u001b[0;32m/usr/local/anaconda3/lib/python3.10/site-packages/pandas/core/series.py:1051\u001b[0m, in \u001b[0;36mSeries._get_value\u001b[0;34m(self, label, takeable)\u001b[0m\n\u001b[1;32m   1048\u001b[0m     \u001b[39mreturn\u001b[39;00m \u001b[39mself\u001b[39m\u001b[39m.\u001b[39m_values[label]\n\u001b[1;32m   1050\u001b[0m \u001b[39m# Similar to Index.get_value, but we do not fall back to positional\u001b[39;00m\n\u001b[0;32m-> 1051\u001b[0m loc \u001b[39m=\u001b[39m \u001b[39mself\u001b[39;49m\u001b[39m.\u001b[39;49mindex\u001b[39m.\u001b[39;49mget_loc(label)\n\u001b[1;32m   1052\u001b[0m \u001b[39mreturn\u001b[39;00m \u001b[39mself\u001b[39m\u001b[39m.\u001b[39mindex\u001b[39m.\u001b[39m_get_values_for_loc(\u001b[39mself\u001b[39m, loc, label)\n",
      "File \u001b[0;32m/usr/local/anaconda3/lib/python3.10/site-packages/pandas/core/indexes/base.py:3363\u001b[0m, in \u001b[0;36mIndex.get_loc\u001b[0;34m(self, key, method, tolerance)\u001b[0m\n\u001b[1;32m   3361\u001b[0m         \u001b[39mreturn\u001b[39;00m \u001b[39mself\u001b[39m\u001b[39m.\u001b[39m_engine\u001b[39m.\u001b[39mget_loc(casted_key)\n\u001b[1;32m   3362\u001b[0m     \u001b[39mexcept\u001b[39;00m \u001b[39mKeyError\u001b[39;00m \u001b[39mas\u001b[39;00m err:\n\u001b[0;32m-> 3363\u001b[0m         \u001b[39mraise\u001b[39;00m \u001b[39mKeyError\u001b[39;00m(key) \u001b[39mfrom\u001b[39;00m \u001b[39merr\u001b[39;00m\n\u001b[1;32m   3365\u001b[0m \u001b[39mif\u001b[39;00m is_scalar(key) \u001b[39mand\u001b[39;00m isna(key) \u001b[39mand\u001b[39;00m \u001b[39mnot\u001b[39;00m \u001b[39mself\u001b[39m\u001b[39m.\u001b[39mhasnans:\n\u001b[1;32m   3366\u001b[0m     \u001b[39mraise\u001b[39;00m \u001b[39mKeyError\u001b[39;00m(key)\n",
      "\u001b[0;31mKeyError\u001b[0m: 'id'"
     ]
    }
   ],
   "source": [
    "result_df = LoadData.run_select_statement(select_statement)\n",
    "\n",
    "for i, row in result_df.iterrows():\n",
    "    ticket_id = row['id']\n",
    "    expected_ids = row['expected_id']\n",
    "    expected_ids = [int(id.strip()) for id in expected_ids.split(',')]\n",
    "    product = row['product']\n",
    "    module = row['module']\n",
    "    subject = row['subject']\n",
    "    summary = row['summary']\n",
    "    ids = find_similar_tickets(subject, summary, product, module, k=20) # METODO BASEADO NO QUE É FEITO PRA CAROLINA\n",
    "    found_ids = 0\n",
    "    for id in expected_ids:\n",
    "        if id in expected_ids:\n",
    "            found_ids += 1\n",
    "            print('Encontrou o id {id} esperado')\n",
    "    print(f'Encontramos {found_ids} ids dos {len(expected_ids)} esperados')"
   ]
  }
 ],
 "metadata": {
  "kernelspec": {
   "display_name": "Python 3 (ipykernel)",
   "language": "python",
   "name": "python3"
  },
  "language_info": {
   "codemirror_mode": {
    "name": "ipython",
    "version": 3
   },
   "file_extension": ".py",
   "mimetype": "text/x-python",
   "name": "python",
   "nbconvert_exporter": "python",
   "pygments_lexer": "ipython3",
   "version": "3.12.3"
  }
 },
 "nbformat": 4,
 "nbformat_minor": 5
}
