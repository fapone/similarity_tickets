{
 "cells": [
  {
   "cell_type": "code",
   "execution_count": 6,
   "metadata": {},
   "outputs": [
    {
     "name": "stderr",
     "output_type": "stream",
     "text": [
      "Processing: 100%|██████████| 67/67 [00:23<00:00,  2.90it/s]\n",
      "100%|██████████| 1/1 [00:00<00:00, 3771.86it/s]\n",
      "100%|██████████| 1/1 [00:00<00:00, 5295.84it/s]\n"
     ]
    }
   ],
   "source": [
    "import sys\n",
    "import os\n",
    "\n",
    "# Adiciona o diretório 'src' ao caminho do sistema\n",
    "sys.path.append(os.path.abspath(os.path.join(os.getcwd(), '..', 'src')))\n",
    "\n",
    "# Adiciona o diretório 'src' ao caminho do sistema\n",
    "from similarity_finder import SimilarityFinder\n",
    "\n",
    "# Create an instance of SearchService\n",
    "find_similarity = SimilarityFinder()\n",
    "\n",
    "# Call the accuracy_metrics method with the correct arguments\n",
    "product = 'Datasul'\n",
    "module = ''\n",
    "sentence = 'subject'\n",
    "\n",
    "# Ensure you pass exactly three arguments besides 'self'\n",
    "df_grouped = find_similarity.process_data(product, module, sentence)"
   ]
  }
 ],
 "metadata": {
  "kernelspec": {
   "display_name": ".venv",
   "language": "python",
   "name": "python3"
  },
  "language_info": {
   "codemirror_mode": {
    "name": "ipython",
    "version": 3
   },
   "file_extension": ".py",
   "mimetype": "text/x-python",
   "name": "python",
   "nbconvert_exporter": "python",
   "pygments_lexer": "ipython3",
   "version": "3.12.3"
  }
 },
 "nbformat": 4,
 "nbformat_minor": 2
}
