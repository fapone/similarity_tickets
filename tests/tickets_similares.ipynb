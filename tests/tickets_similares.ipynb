{
 "cells": [
  {
   "cell_type": "code",
   "execution_count": 6,
   "metadata": {},
   "outputs": [
    {
     "ename": "ModuleNotFoundError",
     "evalue": "No module named 'similarity_finder'",
     "output_type": "error",
     "traceback": [
      "\u001b[0;31m---------------------------------------------------------------------------\u001b[0m",
      "\u001b[0;31mModuleNotFoundError\u001b[0m                       Traceback (most recent call last)",
      "Cell \u001b[0;32mIn[6], line 1\u001b[0m\n\u001b[0;32m----> 1\u001b[0m \u001b[38;5;28;01mfrom\u001b[39;00m \u001b[38;5;21;01msimilarity_finder\u001b[39;00m \u001b[38;5;28;01mimport\u001b[39;00m SimilarityFinder\n\u001b[1;32m      3\u001b[0m \u001b[38;5;66;03m# Create an instance of SearchService\u001b[39;00m\n\u001b[1;32m      4\u001b[0m find_similarity \u001b[38;5;241m=\u001b[39m SimilarityFinder()\n",
      "\u001b[0;31mModuleNotFoundError\u001b[0m: No module named 'similarity_finder'"
     ]
    }
   ],
   "source": [
    "from similarity_finder import SimilarityFinder\n",
    "\n",
    "# Create an instance of SearchService\n",
    "find_similarity = SimilarityFinder()\n",
    "\n",
    "# Call the accuracy_metrics method with the correct arguments\n",
    "product = 'Datasul'\n",
    "module = ''\n",
    "sentence = 'subject'\n",
    "\n",
    "# Ensure you pass exactly three arguments besides 'self'\n",
    "df_grouped = find_similarity.process_data(product, module, sentence)"
   ]
  }
 ],
 "metadata": {
  "kernelspec": {
   "display_name": ".venv",
   "language": "python",
   "name": "python3"
  },
  "language_info": {
   "codemirror_mode": {
    "name": "ipython",
    "version": 3
   },
   "file_extension": ".py",
   "mimetype": "text/x-python",
   "name": "python",
   "nbconvert_exporter": "python",
   "pygments_lexer": "ipython3",
   "version": "3.12.3"
  }
 },
 "nbformat": 4,
 "nbformat_minor": 2
}
