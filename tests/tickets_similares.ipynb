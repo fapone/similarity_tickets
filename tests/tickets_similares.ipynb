{
 "cells": [
  {
   "cell_type": "code",
   "execution_count": 18,
   "metadata": {},
   "outputs": [
    {
     "name": "stderr",
     "output_type": "stream",
     "text": [
      "Processing: 100%|██████████| 67/67 [00:23<00:00,  2.89it/s]\n"
     ]
    },
    {
     "ename": "NameError",
     "evalue": "name 'get_logger' is not defined",
     "output_type": "error",
     "traceback": [
      "\u001b[0;31m---------------------------------------------------------------------------\u001b[0m",
      "\u001b[0;31mNameError\u001b[0m                                 Traceback (most recent call last)",
      "Cell \u001b[0;32mIn[18], line 16\u001b[0m\n\u001b[1;32m     13\u001b[0m sentence \u001b[38;5;241m=\u001b[39m \u001b[38;5;124m'\u001b[39m\u001b[38;5;124msubject\u001b[39m\u001b[38;5;124m'\u001b[39m\n\u001b[1;32m     15\u001b[0m \u001b[38;5;66;03m# Ensure you pass exactly three arguments besides 'self'\u001b[39;00m\n\u001b[0;32m---> 16\u001b[0m df_grouped \u001b[38;5;241m=\u001b[39m \u001b[43mfind_similarity\u001b[49m\u001b[38;5;241;43m.\u001b[39;49m\u001b[43mprocess_data\u001b[49m\u001b[43m(\u001b[49m\u001b[43mproduct\u001b[49m\u001b[43m,\u001b[49m\u001b[43m \u001b[49m\u001b[43mmodule\u001b[49m\u001b[43m,\u001b[49m\u001b[43m \u001b[49m\u001b[43msentence\u001b[49m\u001b[43m)\u001b[49m\n",
      "File \u001b[0;32m/Volumes/Macintosh HD - Data/Users/rodrigomoraes/workspace/labs/tickets_similares/src/similarity_finder.py:90\u001b[0m, in \u001b[0;36mSimilarityFinder.process_data\u001b[0;34m(self, product, module, sentence)\u001b[0m\n\u001b[1;32m     84\u001b[0m group_df \u001b[38;5;241m=\u001b[39m pd\u001b[38;5;241m.\u001b[39mconcat(results, ignore_index\u001b[38;5;241m=\u001b[39m\u001b[38;5;28;01mTrue\u001b[39;00m) \n\u001b[1;32m     86\u001b[0m \u001b[38;5;66;03m# Export the final DataFrame to Excel\u001b[39;00m\n\u001b[1;32m     87\u001b[0m \u001b[38;5;66;03m#final_df.to_excel('final_results.xlsx', index=False)\u001b[39;00m\n\u001b[1;32m     88\u001b[0m \n\u001b[1;32m     89\u001b[0m \u001b[38;5;66;03m# Insert the DataFrame directly into the Vectorized Database.\u001b[39;00m\n\u001b[0;32m---> 90\u001b[0m \u001b[43mDatabaseService\u001b[49m\u001b[43m(\u001b[49m\u001b[43m)\u001b[49m\u001b[38;5;241;43m.\u001b[39;49m\u001b[43mrun_dml_statement\u001b[49m\u001b[43m(\u001b[49m\u001b[43mfinal_df\u001b[49m\u001b[43m,\u001b[49m\u001b[43m \u001b[49m\u001b[38;5;124;43m'\u001b[39;49m\u001b[38;5;124;43mresult_2\u001b[39;49m\u001b[38;5;124;43m'\u001b[39;49m\u001b[43m)\u001b[49m\n\u001b[1;32m     92\u001b[0m \u001b[38;5;66;03m# List of all ticket_id for reference\u001b[39;00m\n\u001b[1;32m     93\u001b[0m all_ticket_ids \u001b[38;5;241m=\u001b[39m \u001b[38;5;28mset\u001b[39m(group_df[\u001b[38;5;124m'\u001b[39m\u001b[38;5;124mticket_id\u001b[39m\u001b[38;5;124m'\u001b[39m])\n",
      "File \u001b[0;32m/Volumes/Macintosh HD - Data/Users/rodrigomoraes/workspace/labs/tickets_similares/src/embedding.py:104\u001b[0m, in \u001b[0;36mDatabaseService.run_dml_statement\u001b[0;34m(self, df, table, vars)\u001b[0m\n\u001b[1;32m    103\u001b[0m \u001b[38;5;28;01mdef\u001b[39;00m \u001b[38;5;21mrun_dml_statement\u001b[39m(\u001b[38;5;28mself\u001b[39m, df: \u001b[38;5;28mstr\u001b[39m, table: \u001b[38;5;28mstr\u001b[39m, \u001b[38;5;28mvars\u001b[39m\u001b[38;5;241m=\u001b[39m\u001b[38;5;28;01mNone\u001b[39;00m): \n\u001b[0;32m--> 104\u001b[0m     logger \u001b[38;5;241m=\u001b[39m \u001b[43mget_logger\u001b[49m(\u001b[38;5;18m__name__\u001b[39m)\n\u001b[1;32m    106\u001b[0m     \u001b[38;5;28;01mtry\u001b[39;00m:\n\u001b[1;32m    107\u001b[0m         conn \u001b[38;5;241m=\u001b[39m \u001b[38;5;28mself\u001b[39m\u001b[38;5;241m.\u001b[39m_get_database_connection()\n",
      "\u001b[0;31mNameError\u001b[0m: name 'get_logger' is not defined"
     ]
    }
   ],
   "source": [
    "import sys\n",
    "import os\n",
    "\n",
    "# Adiciona o diretório 'src' ao caminho do sistema\n",
    "from similarity_finder import SimilarityFinder\n",
    "\n",
    "# Create an instance of SearchService\n",
    "find_similarity = SimilarityFinder()\n",
    "\n",
    "# Call the accuracy_metrics method with the correct arguments\n",
    "product = 'Datasul'\n",
    "module = ''\n",
    "sentence = 'subject'\n",
    "\n",
    "# Ensure you pass exactly three arguments besides 'self'\n",
    "df_grouped = find_similarity.process_data(product, module, sentence)"
   ]
  }
 ],
 "metadata": {
  "kernelspec": {
   "display_name": ".venv",
   "language": "python",
   "name": "python3"
  },
  "language_info": {
   "codemirror_mode": {
    "name": "ipython",
    "version": 3
   },
   "file_extension": ".py",
   "mimetype": "text/x-python",
   "name": "python",
   "nbconvert_exporter": "python",
   "pygments_lexer": "ipython3",
   "version": "3.12.3"
  }
 },
 "nbformat": 4,
 "nbformat_minor": 2
}
